{
 "cells": [
  {
   "cell_type": "code",
   "execution_count": null,
   "metadata": {
    "id": "vSfe4bhLeApI"
   },
   "outputs": [],
   "source": [
    "# First install then restart the kernel\n",
    "#using for training_args ImportError: Using the `Trainer` with `PyTorch` requires `accelerate`: Run `pip install --upgrade accelerate`\n",
    "!pip uninstall -y transformers accelerate\n",
    "!pip install transformers accelerate"
   ]
  },
  {
   "cell_type": "code",
   "execution_count": 65,
   "metadata": {
    "colab": {
     "base_uri": "https://localhost:8080/"
    },
    "id": "ck3subwoorkz",
    "outputId": "d5a3dcd6-113d-4274-f046-0a6a3a505834"
   },
   "outputs": [
    {
     "name": "stdout",
     "output_type": "stream",
     "text": [
      "Drive already mounted at /content/drive; to attempt to forcibly remount, call drive.mount(\"/content/drive\", force_remount=True).\n"
     ]
    }
   ],
   "source": [
    "from google.colab import drive\n",
    "drive.mount('/content/drive')"
   ]
  },
  {
   "cell_type": "markdown",
   "metadata": {
    "id": "RiE27jtoCgWz"
   },
   "source": [
    "## Create sequence dataset for GPT2 from Sanjagh dataset"
   ]
  },
  {
   "cell_type": "code",
   "execution_count": null,
   "metadata": {
    "id": "qIeOXzyVyyap"
   },
   "outputs": [],
   "source": [
    "import pandas as pd \n",
    "import numpy as np"
   ]
  },
  {
   "cell_type": "code",
   "execution_count": null,
   "metadata": {
    "colab": {
     "base_uri": "https://localhost:8080/",
     "height": 206
    },
    "id": "3LtktlU2pCuB",
    "outputId": "438c70a8-799e-497b-e269-77c3e4e267ff"
   },
   "outputs": [
    {
     "data": {
      "text/html": [
       "\n",
       "  <div id=\"df-95235986-bc90-41bf-a067-492f477ab4e7\">\n",
       "    <div class=\"colab-df-container\">\n",
       "      <div>\n",
       "<style scoped>\n",
       "    .dataframe tbody tr th:only-of-type {\n",
       "        vertical-align: middle;\n",
       "    }\n",
       "\n",
       "    .dataframe tbody tr th {\n",
       "        vertical-align: top;\n",
       "    }\n",
       "\n",
       "    .dataframe thead th {\n",
       "        text-align: right;\n",
       "    }\n",
       "</style>\n",
       "<table border=\"1\" class=\"dataframe\">\n",
       "  <thead>\n",
       "    <tr style=\"text-align: right;\">\n",
       "      <th></th>\n",
       "      <th>Init</th>\n",
       "      <th>service</th>\n",
       "      <th>user</th>\n",
       "    </tr>\n",
       "  </thead>\n",
       "  <tbody>\n",
       "    <tr>\n",
       "      <th>0</th>\n",
       "      <td>1655018492726</td>\n",
       "      <td>328</td>\n",
       "      <td>1275352</td>\n",
       "    </tr>\n",
       "    <tr>\n",
       "      <th>1</th>\n",
       "      <td>1655018824405</td>\n",
       "      <td>92</td>\n",
       "      <td>1275354</td>\n",
       "    </tr>\n",
       "    <tr>\n",
       "      <th>2</th>\n",
       "      <td>1655018831538</td>\n",
       "      <td>12</td>\n",
       "      <td>1275355</td>\n",
       "    </tr>\n",
       "    <tr>\n",
       "      <th>3</th>\n",
       "      <td>1655018842708</td>\n",
       "      <td>149</td>\n",
       "      <td>1274893</td>\n",
       "    </tr>\n",
       "    <tr>\n",
       "      <th>4</th>\n",
       "      <td>1655018856558</td>\n",
       "      <td>42</td>\n",
       "      <td>8604</td>\n",
       "    </tr>\n",
       "  </tbody>\n",
       "</table>\n",
       "</div>\n",
       "      <button class=\"colab-df-convert\" onclick=\"convertToInteractive('df-95235986-bc90-41bf-a067-492f477ab4e7')\"\n",
       "              title=\"Convert this dataframe to an interactive table.\"\n",
       "              style=\"display:none;\">\n",
       "        \n",
       "  <svg xmlns=\"http://www.w3.org/2000/svg\" height=\"24px\"viewBox=\"0 0 24 24\"\n",
       "       width=\"24px\">\n",
       "    <path d=\"M0 0h24v24H0V0z\" fill=\"none\"/>\n",
       "    <path d=\"M18.56 5.44l.94 2.06.94-2.06 2.06-.94-2.06-.94-.94-2.06-.94 2.06-2.06.94zm-11 1L8.5 8.5l.94-2.06 2.06-.94-2.06-.94L8.5 2.5l-.94 2.06-2.06.94zm10 10l.94 2.06.94-2.06 2.06-.94-2.06-.94-.94-2.06-.94 2.06-2.06.94z\"/><path d=\"M17.41 7.96l-1.37-1.37c-.4-.4-.92-.59-1.43-.59-.52 0-1.04.2-1.43.59L10.3 9.45l-7.72 7.72c-.78.78-.78 2.05 0 2.83L4 21.41c.39.39.9.59 1.41.59.51 0 1.02-.2 1.41-.59l7.78-7.78 2.81-2.81c.8-.78.8-2.07 0-2.86zM5.41 20L4 18.59l7.72-7.72 1.47 1.35L5.41 20z\"/>\n",
       "  </svg>\n",
       "      </button>\n",
       "      \n",
       "  <style>\n",
       "    .colab-df-container {\n",
       "      display:flex;\n",
       "      flex-wrap:wrap;\n",
       "      gap: 12px;\n",
       "    }\n",
       "\n",
       "    .colab-df-convert {\n",
       "      background-color: #E8F0FE;\n",
       "      border: none;\n",
       "      border-radius: 50%;\n",
       "      cursor: pointer;\n",
       "      display: none;\n",
       "      fill: #1967D2;\n",
       "      height: 32px;\n",
       "      padding: 0 0 0 0;\n",
       "      width: 32px;\n",
       "    }\n",
       "\n",
       "    .colab-df-convert:hover {\n",
       "      background-color: #E2EBFA;\n",
       "      box-shadow: 0px 1px 2px rgba(60, 64, 67, 0.3), 0px 1px 3px 1px rgba(60, 64, 67, 0.15);\n",
       "      fill: #174EA6;\n",
       "    }\n",
       "\n",
       "    [theme=dark] .colab-df-convert {\n",
       "      background-color: #3B4455;\n",
       "      fill: #D2E3FC;\n",
       "    }\n",
       "\n",
       "    [theme=dark] .colab-df-convert:hover {\n",
       "      background-color: #434B5C;\n",
       "      box-shadow: 0px 1px 3px 1px rgba(0, 0, 0, 0.15);\n",
       "      filter: drop-shadow(0px 1px 2px rgba(0, 0, 0, 0.3));\n",
       "      fill: #FFFFFF;\n",
       "    }\n",
       "  </style>\n",
       "\n",
       "      <script>\n",
       "        const buttonEl =\n",
       "          document.querySelector('#df-95235986-bc90-41bf-a067-492f477ab4e7 button.colab-df-convert');\n",
       "        buttonEl.style.display =\n",
       "          google.colab.kernel.accessAllowed ? 'block' : 'none';\n",
       "\n",
       "        async function convertToInteractive(key) {\n",
       "          const element = document.querySelector('#df-95235986-bc90-41bf-a067-492f477ab4e7');\n",
       "          const dataTable =\n",
       "            await google.colab.kernel.invokeFunction('convertToInteractive',\n",
       "                                                     [key], {});\n",
       "          if (!dataTable) return;\n",
       "\n",
       "          const docLinkHtml = 'Like what you see? Visit the ' +\n",
       "            '<a target=\"_blank\" href=https://colab.research.google.com/notebooks/data_table.ipynb>data table notebook</a>'\n",
       "            + ' to learn more about interactive tables.';\n",
       "          element.innerHTML = '';\n",
       "          dataTable['output_type'] = 'display_data';\n",
       "          await google.colab.output.renderOutput(dataTable, element);\n",
       "          const docLink = document.createElement('div');\n",
       "          docLink.innerHTML = docLinkHtml;\n",
       "          element.appendChild(docLink);\n",
       "        }\n",
       "      </script>\n",
       "    </div>\n",
       "  </div>\n",
       "  "
      ],
      "text/plain": [
       "            Init  service     user\n",
       "0  1655018492726      328  1275352\n",
       "1  1655018824405       92  1275354\n",
       "2  1655018831538       12  1275355\n",
       "3  1655018842708      149  1274893\n",
       "4  1655018856558       42     8604"
      ]
     },
     "execution_count": 72,
     "metadata": {},
     "output_type": "execute_result"
    }
   ],
   "source": [
    "df1 = pd.read_csv ('/content/drive/MyDrive/Recommendation/taskfullshare.csv')\n",
    "df1 = df1.loc[:, ~df1.columns.str.contains('^Unnamed')]\n",
    "df1.head()"
   ]
  },
  {
   "cell_type": "markdown",
   "metadata": {
    "id": "YkCiRj6BCjuP"
   },
   "source": [
    "convert Init to datetime"
   ]
  },
  {
   "cell_type": "code",
   "execution_count": null,
   "metadata": {
    "colab": {
     "base_uri": "https://localhost:8080/",
     "height": 112
    },
    "id": "W04HGLRwpI0I",
    "outputId": "a0262256-f799-4b97-d117-adc0bc2ce356"
   },
   "outputs": [
    {
     "data": {
      "text/html": [
       "\n",
       "  <div id=\"df-319733d2-76ce-4acc-941f-e1e5521012f3\">\n",
       "    <div class=\"colab-df-container\">\n",
       "      <div>\n",
       "<style scoped>\n",
       "    .dataframe tbody tr th:only-of-type {\n",
       "        vertical-align: middle;\n",
       "    }\n",
       "\n",
       "    .dataframe tbody tr th {\n",
       "        vertical-align: top;\n",
       "    }\n",
       "\n",
       "    .dataframe thead th {\n",
       "        text-align: right;\n",
       "    }\n",
       "</style>\n",
       "<table border=\"1\" class=\"dataframe\">\n",
       "  <thead>\n",
       "    <tr style=\"text-align: right;\">\n",
       "      <th></th>\n",
       "      <th>Init</th>\n",
       "      <th>service</th>\n",
       "      <th>user</th>\n",
       "    </tr>\n",
       "  </thead>\n",
       "  <tbody>\n",
       "    <tr>\n",
       "      <th>1681001</th>\n",
       "      <td>2023-04-09 18:23:57.300</td>\n",
       "      <td>395</td>\n",
       "      <td>89038</td>\n",
       "    </tr>\n",
       "    <tr>\n",
       "      <th>1681000</th>\n",
       "      <td>2023-04-09 18:23:01.152</td>\n",
       "      <td>42</td>\n",
       "      <td>216925</td>\n",
       "    </tr>\n",
       "  </tbody>\n",
       "</table>\n",
       "</div>\n",
       "      <button class=\"colab-df-convert\" onclick=\"convertToInteractive('df-319733d2-76ce-4acc-941f-e1e5521012f3')\"\n",
       "              title=\"Convert this dataframe to an interactive table.\"\n",
       "              style=\"display:none;\">\n",
       "        \n",
       "  <svg xmlns=\"http://www.w3.org/2000/svg\" height=\"24px\"viewBox=\"0 0 24 24\"\n",
       "       width=\"24px\">\n",
       "    <path d=\"M0 0h24v24H0V0z\" fill=\"none\"/>\n",
       "    <path d=\"M18.56 5.44l.94 2.06.94-2.06 2.06-.94-2.06-.94-.94-2.06-.94 2.06-2.06.94zm-11 1L8.5 8.5l.94-2.06 2.06-.94-2.06-.94L8.5 2.5l-.94 2.06-2.06.94zm10 10l.94 2.06.94-2.06 2.06-.94-2.06-.94-.94-2.06-.94 2.06-2.06.94z\"/><path d=\"M17.41 7.96l-1.37-1.37c-.4-.4-.92-.59-1.43-.59-.52 0-1.04.2-1.43.59L10.3 9.45l-7.72 7.72c-.78.78-.78 2.05 0 2.83L4 21.41c.39.39.9.59 1.41.59.51 0 1.02-.2 1.41-.59l7.78-7.78 2.81-2.81c.8-.78.8-2.07 0-2.86zM5.41 20L4 18.59l7.72-7.72 1.47 1.35L5.41 20z\"/>\n",
       "  </svg>\n",
       "      </button>\n",
       "      \n",
       "  <style>\n",
       "    .colab-df-container {\n",
       "      display:flex;\n",
       "      flex-wrap:wrap;\n",
       "      gap: 12px;\n",
       "    }\n",
       "\n",
       "    .colab-df-convert {\n",
       "      background-color: #E8F0FE;\n",
       "      border: none;\n",
       "      border-radius: 50%;\n",
       "      cursor: pointer;\n",
       "      display: none;\n",
       "      fill: #1967D2;\n",
       "      height: 32px;\n",
       "      padding: 0 0 0 0;\n",
       "      width: 32px;\n",
       "    }\n",
       "\n",
       "    .colab-df-convert:hover {\n",
       "      background-color: #E2EBFA;\n",
       "      box-shadow: 0px 1px 2px rgba(60, 64, 67, 0.3), 0px 1px 3px 1px rgba(60, 64, 67, 0.15);\n",
       "      fill: #174EA6;\n",
       "    }\n",
       "\n",
       "    [theme=dark] .colab-df-convert {\n",
       "      background-color: #3B4455;\n",
       "      fill: #D2E3FC;\n",
       "    }\n",
       "\n",
       "    [theme=dark] .colab-df-convert:hover {\n",
       "      background-color: #434B5C;\n",
       "      box-shadow: 0px 1px 3px 1px rgba(0, 0, 0, 0.15);\n",
       "      filter: drop-shadow(0px 1px 2px rgba(0, 0, 0, 0.3));\n",
       "      fill: #FFFFFF;\n",
       "    }\n",
       "  </style>\n",
       "\n",
       "      <script>\n",
       "        const buttonEl =\n",
       "          document.querySelector('#df-319733d2-76ce-4acc-941f-e1e5521012f3 button.colab-df-convert');\n",
       "        buttonEl.style.display =\n",
       "          google.colab.kernel.accessAllowed ? 'block' : 'none';\n",
       "\n",
       "        async function convertToInteractive(key) {\n",
       "          const element = document.querySelector('#df-319733d2-76ce-4acc-941f-e1e5521012f3');\n",
       "          const dataTable =\n",
       "            await google.colab.kernel.invokeFunction('convertToInteractive',\n",
       "                                                     [key], {});\n",
       "          if (!dataTable) return;\n",
       "\n",
       "          const docLinkHtml = 'Like what you see? Visit the ' +\n",
       "            '<a target=\"_blank\" href=https://colab.research.google.com/notebooks/data_table.ipynb>data table notebook</a>'\n",
       "            + ' to learn more about interactive tables.';\n",
       "          element.innerHTML = '';\n",
       "          dataTable['output_type'] = 'display_data';\n",
       "          await google.colab.output.renderOutput(dataTable, element);\n",
       "          const docLink = document.createElement('div');\n",
       "          docLink.innerHTML = docLinkHtml;\n",
       "          element.appendChild(docLink);\n",
       "        }\n",
       "      </script>\n",
       "    </div>\n",
       "  </div>\n",
       "  "
      ],
      "text/plain": [
       "                           Init  service    user\n",
       "1681001 2023-04-09 18:23:57.300      395   89038\n",
       "1681000 2023-04-09 18:23:01.152       42  216925"
      ]
     },
     "execution_count": 73,
     "metadata": {},
     "output_type": "execute_result"
    }
   ],
   "source": [
    "df1['Init'] = pd.to_datetime(df1['Init'],unit='ms')\n",
    "df1=df1.sort_values(by='Init',ascending=False)\n",
    "df1.head(2)"
   ]
  },
  {
   "cell_type": "markdown",
   "metadata": {
    "id": "g8d_Ds5VCnaf"
   },
   "source": [
    "Create date and time columns for deleting the duplicated data where the users apply one service during one day"
   ]
  },
  {
   "cell_type": "code",
   "execution_count": null,
   "metadata": {
    "colab": {
     "base_uri": "https://localhost:8080/",
     "height": 206
    },
    "id": "Lqk5j50PpI2t",
    "outputId": "450423b4-0b4b-4325-c408-dcf06c163700"
   },
   "outputs": [
    {
     "data": {
      "text/html": [
       "\n",
       "  <div id=\"df-de278cad-dd62-4881-88bb-34323b99b2a6\">\n",
       "    <div class=\"colab-df-container\">\n",
       "      <div>\n",
       "<style scoped>\n",
       "    .dataframe tbody tr th:only-of-type {\n",
       "        vertical-align: middle;\n",
       "    }\n",
       "\n",
       "    .dataframe tbody tr th {\n",
       "        vertical-align: top;\n",
       "    }\n",
       "\n",
       "    .dataframe thead th {\n",
       "        text-align: right;\n",
       "    }\n",
       "</style>\n",
       "<table border=\"1\" class=\"dataframe\">\n",
       "  <thead>\n",
       "    <tr style=\"text-align: right;\">\n",
       "      <th></th>\n",
       "      <th>Init</th>\n",
       "      <th>service</th>\n",
       "      <th>user</th>\n",
       "      <th>date</th>\n",
       "      <th>time</th>\n",
       "    </tr>\n",
       "  </thead>\n",
       "  <tbody>\n",
       "    <tr>\n",
       "      <th>40557</th>\n",
       "      <td>2017-06-13 11:00:31.553</td>\n",
       "      <td>0</td>\n",
       "      <td>127</td>\n",
       "      <td>2017-06-13</td>\n",
       "      <td>11:00:31.553000</td>\n",
       "    </tr>\n",
       "    <tr>\n",
       "      <th>40555</th>\n",
       "      <td>2017-06-13 12:49:36.030</td>\n",
       "      <td>0</td>\n",
       "      <td>130</td>\n",
       "      <td>2017-06-13</td>\n",
       "      <td>12:49:36.030000</td>\n",
       "    </tr>\n",
       "    <tr>\n",
       "      <th>40554</th>\n",
       "      <td>2017-06-13 13:04:06.644</td>\n",
       "      <td>0</td>\n",
       "      <td>132</td>\n",
       "      <td>2017-06-13</td>\n",
       "      <td>13:04:06.644000</td>\n",
       "    </tr>\n",
       "    <tr>\n",
       "      <th>40597</th>\n",
       "      <td>2017-06-13 13:24:43.878</td>\n",
       "      <td>0</td>\n",
       "      <td>130</td>\n",
       "      <td>2017-06-13</td>\n",
       "      <td>13:24:43.878000</td>\n",
       "    </tr>\n",
       "    <tr>\n",
       "      <th>40629</th>\n",
       "      <td>2017-06-14 07:35:55.062</td>\n",
       "      <td>0</td>\n",
       "      <td>134</td>\n",
       "      <td>2017-06-14</td>\n",
       "      <td>07:35:55.062000</td>\n",
       "    </tr>\n",
       "  </tbody>\n",
       "</table>\n",
       "</div>\n",
       "      <button class=\"colab-df-convert\" onclick=\"convertToInteractive('df-de278cad-dd62-4881-88bb-34323b99b2a6')\"\n",
       "              title=\"Convert this dataframe to an interactive table.\"\n",
       "              style=\"display:none;\">\n",
       "        \n",
       "  <svg xmlns=\"http://www.w3.org/2000/svg\" height=\"24px\"viewBox=\"0 0 24 24\"\n",
       "       width=\"24px\">\n",
       "    <path d=\"M0 0h24v24H0V0z\" fill=\"none\"/>\n",
       "    <path d=\"M18.56 5.44l.94 2.06.94-2.06 2.06-.94-2.06-.94-.94-2.06-.94 2.06-2.06.94zm-11 1L8.5 8.5l.94-2.06 2.06-.94-2.06-.94L8.5 2.5l-.94 2.06-2.06.94zm10 10l.94 2.06.94-2.06 2.06-.94-2.06-.94-.94-2.06-.94 2.06-2.06.94z\"/><path d=\"M17.41 7.96l-1.37-1.37c-.4-.4-.92-.59-1.43-.59-.52 0-1.04.2-1.43.59L10.3 9.45l-7.72 7.72c-.78.78-.78 2.05 0 2.83L4 21.41c.39.39.9.59 1.41.59.51 0 1.02-.2 1.41-.59l7.78-7.78 2.81-2.81c.8-.78.8-2.07 0-2.86zM5.41 20L4 18.59l7.72-7.72 1.47 1.35L5.41 20z\"/>\n",
       "  </svg>\n",
       "      </button>\n",
       "      \n",
       "  <style>\n",
       "    .colab-df-container {\n",
       "      display:flex;\n",
       "      flex-wrap:wrap;\n",
       "      gap: 12px;\n",
       "    }\n",
       "\n",
       "    .colab-df-convert {\n",
       "      background-color: #E8F0FE;\n",
       "      border: none;\n",
       "      border-radius: 50%;\n",
       "      cursor: pointer;\n",
       "      display: none;\n",
       "      fill: #1967D2;\n",
       "      height: 32px;\n",
       "      padding: 0 0 0 0;\n",
       "      width: 32px;\n",
       "    }\n",
       "\n",
       "    .colab-df-convert:hover {\n",
       "      background-color: #E2EBFA;\n",
       "      box-shadow: 0px 1px 2px rgba(60, 64, 67, 0.3), 0px 1px 3px 1px rgba(60, 64, 67, 0.15);\n",
       "      fill: #174EA6;\n",
       "    }\n",
       "\n",
       "    [theme=dark] .colab-df-convert {\n",
       "      background-color: #3B4455;\n",
       "      fill: #D2E3FC;\n",
       "    }\n",
       "\n",
       "    [theme=dark] .colab-df-convert:hover {\n",
       "      background-color: #434B5C;\n",
       "      box-shadow: 0px 1px 3px 1px rgba(0, 0, 0, 0.15);\n",
       "      filter: drop-shadow(0px 1px 2px rgba(0, 0, 0, 0.3));\n",
       "      fill: #FFFFFF;\n",
       "    }\n",
       "  </style>\n",
       "\n",
       "      <script>\n",
       "        const buttonEl =\n",
       "          document.querySelector('#df-de278cad-dd62-4881-88bb-34323b99b2a6 button.colab-df-convert');\n",
       "        buttonEl.style.display =\n",
       "          google.colab.kernel.accessAllowed ? 'block' : 'none';\n",
       "\n",
       "        async function convertToInteractive(key) {\n",
       "          const element = document.querySelector('#df-de278cad-dd62-4881-88bb-34323b99b2a6');\n",
       "          const dataTable =\n",
       "            await google.colab.kernel.invokeFunction('convertToInteractive',\n",
       "                                                     [key], {});\n",
       "          if (!dataTable) return;\n",
       "\n",
       "          const docLinkHtml = 'Like what you see? Visit the ' +\n",
       "            '<a target=\"_blank\" href=https://colab.research.google.com/notebooks/data_table.ipynb>data table notebook</a>'\n",
       "            + ' to learn more about interactive tables.';\n",
       "          element.innerHTML = '';\n",
       "          dataTable['output_type'] = 'display_data';\n",
       "          await google.colab.output.renderOutput(dataTable, element);\n",
       "          const docLink = document.createElement('div');\n",
       "          docLink.innerHTML = docLinkHtml;\n",
       "          element.appendChild(docLink);\n",
       "        }\n",
       "      </script>\n",
       "    </div>\n",
       "  </div>\n",
       "  "
      ],
      "text/plain": [
       "                         Init  service  user        date             time\n",
       "40557 2017-06-13 11:00:31.553        0   127  2017-06-13  11:00:31.553000\n",
       "40555 2017-06-13 12:49:36.030        0   130  2017-06-13  12:49:36.030000\n",
       "40554 2017-06-13 13:04:06.644        0   132  2017-06-13  13:04:06.644000\n",
       "40597 2017-06-13 13:24:43.878        0   130  2017-06-13  13:24:43.878000\n",
       "40629 2017-06-14 07:35:55.062        0   134  2017-06-14  07:35:55.062000"
      ]
     },
     "execution_count": 74,
     "metadata": {},
     "output_type": "execute_result"
    }
   ],
   "source": [
    "df1 = df1.sort_values(by='Init')\n",
    "# Extract date and time components\n",
    "df1['date'] = df1['Init'].dt.date\n",
    "df1['time'] = df1['Init'].dt.time\n",
    "df1.head()"
   ]
  },
  {
   "cell_type": "markdown",
   "metadata": {
    "id": "gePgfKA6C8U0"
   },
   "source": [
    "remove duplicated"
   ]
  },
  {
   "cell_type": "code",
   "execution_count": null,
   "metadata": {
    "colab": {
     "base_uri": "https://localhost:8080/"
    },
    "id": "vnZ8Y56YpI5k",
    "outputId": "8417ace2-e1d4-4b7c-b7ac-b749d122aa29"
   },
   "outputs": [
    {
     "name": "stdout",
     "output_type": "stream",
     "text": [
      "<class 'pandas.core.frame.DataFrame'>\n",
      "Int64Index: 1482958 entries, 40557 to 1681000\n",
      "Data columns (total 5 columns):\n",
      " #   Column   Non-Null Count    Dtype         \n",
      "---  ------   --------------    -----         \n",
      " 0   Init     1482958 non-null  datetime64[ns]\n",
      " 1   service  1482958 non-null  int64         \n",
      " 2   user     1482958 non-null  int64         \n",
      " 3   date     1482958 non-null  object        \n",
      " 4   time     1482958 non-null  object        \n",
      "dtypes: datetime64[ns](1), int64(2), object(2)\n",
      "memory usage: 67.9+ MB\n"
     ]
    }
   ],
   "source": [
    "df1= df1.drop_duplicates(subset=['date', 'service', 'user'])\n",
    "df1.info()"
   ]
  },
  {
   "cell_type": "code",
   "execution_count": null,
   "metadata": {
    "colab": {
     "base_uri": "https://localhost:8080/"
    },
    "id": "vOmQs-5HpTHj",
    "outputId": "996e1c45-1e57-4e6a-d4b6-0bd4cb2286ec"
   },
   "outputs": [
    {
     "name": "stdout",
     "output_type": "stream",
     "text": [
      "<class 'pandas.core.frame.DataFrame'>\n",
      "Int64Index: 1482958 entries, 40557 to 1681000\n",
      "Data columns (total 3 columns):\n",
      " #   Column   Non-Null Count    Dtype \n",
      "---  ------   --------------    ----- \n",
      " 0   service  1482958 non-null  int64 \n",
      " 1   user     1482958 non-null  int64 \n",
      " 2   date     1482958 non-null  object\n",
      "dtypes: int64(2), object(1)\n",
      "memory usage: 45.3+ MB\n"
     ]
    }
   ],
   "source": [
    "df1=df1.drop(['Init','time'],axis=1)\n",
    "df1.info()"
   ]
  },
  {
   "cell_type": "markdown",
   "metadata": {
    "id": "8JkxQtbvDTIe"
   },
   "source": [
    "change the type of the features to appropriate types for sequence"
   ]
  },
  {
   "cell_type": "code",
   "execution_count": null,
   "metadata": {
    "colab": {
     "base_uri": "https://localhost:8080/",
     "height": 206
    },
    "id": "oWrncGWuJxqa",
    "outputId": "10d52a94-2f94-4b2c-adbf-2f8d458eb427"
   },
   "outputs": [
    {
     "data": {
      "text/html": [
       "\n",
       "  <div id=\"df-b5e23e90-5c70-4b2d-8e63-e11c347f4298\">\n",
       "    <div class=\"colab-df-container\">\n",
       "      <div>\n",
       "<style scoped>\n",
       "    .dataframe tbody tr th:only-of-type {\n",
       "        vertical-align: middle;\n",
       "    }\n",
       "\n",
       "    .dataframe tbody tr th {\n",
       "        vertical-align: top;\n",
       "    }\n",
       "\n",
       "    .dataframe thead th {\n",
       "        text-align: right;\n",
       "    }\n",
       "</style>\n",
       "<table border=\"1\" class=\"dataframe\">\n",
       "  <thead>\n",
       "    <tr style=\"text-align: right;\">\n",
       "      <th></th>\n",
       "      <th>service</th>\n",
       "      <th>user</th>\n",
       "      <th>date</th>\n",
       "    </tr>\n",
       "  </thead>\n",
       "  <tbody>\n",
       "    <tr>\n",
       "      <th>40557</th>\n",
       "      <td>S_0</td>\n",
       "      <td>U_127</td>\n",
       "      <td>D_2017-06-13</td>\n",
       "    </tr>\n",
       "    <tr>\n",
       "      <th>40555</th>\n",
       "      <td>S_0</td>\n",
       "      <td>U_130</td>\n",
       "      <td>D_2017-06-13</td>\n",
       "    </tr>\n",
       "    <tr>\n",
       "      <th>40554</th>\n",
       "      <td>S_0</td>\n",
       "      <td>U_132</td>\n",
       "      <td>D_2017-06-13</td>\n",
       "    </tr>\n",
       "    <tr>\n",
       "      <th>40629</th>\n",
       "      <td>S_0</td>\n",
       "      <td>U_134</td>\n",
       "      <td>D_2017-06-14</td>\n",
       "    </tr>\n",
       "    <tr>\n",
       "      <th>40553</th>\n",
       "      <td>S_4</td>\n",
       "      <td>U_134</td>\n",
       "      <td>D_2017-06-14</td>\n",
       "    </tr>\n",
       "  </tbody>\n",
       "</table>\n",
       "</div>\n",
       "      <button class=\"colab-df-convert\" onclick=\"convertToInteractive('df-b5e23e90-5c70-4b2d-8e63-e11c347f4298')\"\n",
       "              title=\"Convert this dataframe to an interactive table.\"\n",
       "              style=\"display:none;\">\n",
       "        \n",
       "  <svg xmlns=\"http://www.w3.org/2000/svg\" height=\"24px\"viewBox=\"0 0 24 24\"\n",
       "       width=\"24px\">\n",
       "    <path d=\"M0 0h24v24H0V0z\" fill=\"none\"/>\n",
       "    <path d=\"M18.56 5.44l.94 2.06.94-2.06 2.06-.94-2.06-.94-.94-2.06-.94 2.06-2.06.94zm-11 1L8.5 8.5l.94-2.06 2.06-.94-2.06-.94L8.5 2.5l-.94 2.06-2.06.94zm10 10l.94 2.06.94-2.06 2.06-.94-2.06-.94-.94-2.06-.94 2.06-2.06.94z\"/><path d=\"M17.41 7.96l-1.37-1.37c-.4-.4-.92-.59-1.43-.59-.52 0-1.04.2-1.43.59L10.3 9.45l-7.72 7.72c-.78.78-.78 2.05 0 2.83L4 21.41c.39.39.9.59 1.41.59.51 0 1.02-.2 1.41-.59l7.78-7.78 2.81-2.81c.8-.78.8-2.07 0-2.86zM5.41 20L4 18.59l7.72-7.72 1.47 1.35L5.41 20z\"/>\n",
       "  </svg>\n",
       "      </button>\n",
       "      \n",
       "  <style>\n",
       "    .colab-df-container {\n",
       "      display:flex;\n",
       "      flex-wrap:wrap;\n",
       "      gap: 12px;\n",
       "    }\n",
       "\n",
       "    .colab-df-convert {\n",
       "      background-color: #E8F0FE;\n",
       "      border: none;\n",
       "      border-radius: 50%;\n",
       "      cursor: pointer;\n",
       "      display: none;\n",
       "      fill: #1967D2;\n",
       "      height: 32px;\n",
       "      padding: 0 0 0 0;\n",
       "      width: 32px;\n",
       "    }\n",
       "\n",
       "    .colab-df-convert:hover {\n",
       "      background-color: #E2EBFA;\n",
       "      box-shadow: 0px 1px 2px rgba(60, 64, 67, 0.3), 0px 1px 3px 1px rgba(60, 64, 67, 0.15);\n",
       "      fill: #174EA6;\n",
       "    }\n",
       "\n",
       "    [theme=dark] .colab-df-convert {\n",
       "      background-color: #3B4455;\n",
       "      fill: #D2E3FC;\n",
       "    }\n",
       "\n",
       "    [theme=dark] .colab-df-convert:hover {\n",
       "      background-color: #434B5C;\n",
       "      box-shadow: 0px 1px 3px 1px rgba(0, 0, 0, 0.15);\n",
       "      filter: drop-shadow(0px 1px 2px rgba(0, 0, 0, 0.3));\n",
       "      fill: #FFFFFF;\n",
       "    }\n",
       "  </style>\n",
       "\n",
       "      <script>\n",
       "        const buttonEl =\n",
       "          document.querySelector('#df-b5e23e90-5c70-4b2d-8e63-e11c347f4298 button.colab-df-convert');\n",
       "        buttonEl.style.display =\n",
       "          google.colab.kernel.accessAllowed ? 'block' : 'none';\n",
       "\n",
       "        async function convertToInteractive(key) {\n",
       "          const element = document.querySelector('#df-b5e23e90-5c70-4b2d-8e63-e11c347f4298');\n",
       "          const dataTable =\n",
       "            await google.colab.kernel.invokeFunction('convertToInteractive',\n",
       "                                                     [key], {});\n",
       "          if (!dataTable) return;\n",
       "\n",
       "          const docLinkHtml = 'Like what you see? Visit the ' +\n",
       "            '<a target=\"_blank\" href=https://colab.research.google.com/notebooks/data_table.ipynb>data table notebook</a>'\n",
       "            + ' to learn more about interactive tables.';\n",
       "          element.innerHTML = '';\n",
       "          dataTable['output_type'] = 'display_data';\n",
       "          await google.colab.output.renderOutput(dataTable, element);\n",
       "          const docLink = document.createElement('div');\n",
       "          docLink.innerHTML = docLinkHtml;\n",
       "          element.appendChild(docLink);\n",
       "        }\n",
       "      </script>\n",
       "    </div>\n",
       "  </div>\n",
       "  "
      ],
      "text/plain": [
       "      service   user          date\n",
       "40557     S_0  U_127  D_2017-06-13\n",
       "40555     S_0  U_130  D_2017-06-13\n",
       "40554     S_0  U_132  D_2017-06-13\n",
       "40629     S_0  U_134  D_2017-06-14\n",
       "40553     S_4  U_134  D_2017-06-14"
      ]
     },
     "execution_count": 77,
     "metadata": {},
     "output_type": "execute_result"
    }
   ],
   "source": [
    "df1[\"service\"] = df1[\"service\"].apply(lambda x: f\"S_{x}\")\n",
    "df1[\"user\"] = df1[\"user\"].apply(lambda x: f\"U_{x}\")\n",
    "df1[\"date\"] = df1[\"date\"].apply(lambda x:  f\"D_{x}\")\n",
    "df1.head()"
   ]
  },
  {
   "cell_type": "code",
   "execution_count": null,
   "metadata": {
    "id": "FKrAiLxeKzKU"
   },
   "outputs": [],
   "source": [
    "ratings_group = df1.sort_values(by=[\"date\"]).groupby(\"user\")\n",
    "\n",
    "ratings_data = pd.DataFrame(\n",
    "    data={\n",
    "        \"user\": list(ratings_group.user.apply(list)),\n",
    "        \"service\": list(ratings_group.service.apply(list)),\n",
    "        \"date\": list(ratings_group.date.apply(list)),\n",
    "    }\n",
    ")"
   ]
  },
  {
   "cell_type": "markdown",
   "metadata": {
    "id": "7qExZfOzDfI7"
   },
   "source": [
    "Make sliding window that contains four sequence item in each row "
   ]
  },
  {
   "cell_type": "code",
   "execution_count": null,
   "metadata": {
    "id": "n8dLMRaOKD1A"
   },
   "outputs": [],
   "source": [
    "sequence_length = 4\n",
    "step_size = 3\n",
    "\n",
    "\n",
    "def create_sequences(values, window_size, step_size):\n",
    "    sequences = []\n",
    "    start_index = 0\n",
    "    while True:\n",
    "        end_index = start_index + window_size\n",
    "        seq = values[start_index:end_index]\n",
    "        if len(seq) < window_size:\n",
    "            seq = values[-window_size:]\n",
    "            if len(seq) == window_size:\n",
    "                sequences.append(seq)\n",
    "            break\n",
    "        sequences.append(seq)\n",
    "        start_index += step_size\n",
    "    return sequences\n",
    "\n",
    "\n",
    "ratings_data.service = ratings_data.service.apply(\n",
    "    lambda ids: create_sequences(ids, sequence_length, step_size)\n",
    ")\n",
    "\n",
    "ratings_data.date = ratings_data.date.apply(\n",
    "    lambda ids: create_sequences(ids, sequence_length, step_size)\n",
    ")\n",
    "ratings_data.user = ratings_data.user.apply(\n",
    "    lambda ids: create_sequences(ids, sequence_length, step_size)\n",
    ")\n",
    "\n"
   ]
  },
  {
   "cell_type": "code",
   "execution_count": null,
   "metadata": {
    "colab": {
     "base_uri": "https://localhost:8080/",
     "height": 112
    },
    "id": "US6_3zWJKRuE",
    "outputId": "f2a49b78-a873-45b4-d86e-a9caefa387ba"
   },
   "outputs": [
    {
     "data": {
      "text/html": [
       "\n",
       "  <div id=\"df-0742c57f-0e72-47bf-97e0-90ed138519af\">\n",
       "    <div class=\"colab-df-container\">\n",
       "      <div>\n",
       "<style scoped>\n",
       "    .dataframe tbody tr th:only-of-type {\n",
       "        vertical-align: middle;\n",
       "    }\n",
       "\n",
       "    .dataframe tbody tr th {\n",
       "        vertical-align: top;\n",
       "    }\n",
       "\n",
       "    .dataframe thead th {\n",
       "        text-align: right;\n",
       "    }\n",
       "</style>\n",
       "<table border=\"1\" class=\"dataframe\">\n",
       "  <thead>\n",
       "    <tr style=\"text-align: right;\">\n",
       "      <th></th>\n",
       "      <th>user</th>\n",
       "      <th>service</th>\n",
       "      <th>date</th>\n",
       "    </tr>\n",
       "  </thead>\n",
       "  <tbody>\n",
       "    <tr>\n",
       "      <th>0</th>\n",
       "      <td>[[U_0, U_0, U_0, U_0], [U_0, U_0, U_0, U_0], [...</td>\n",
       "      <td>[[S_155, S_54, S_54, S_25], [S_25, S_15, S_95,...</td>\n",
       "      <td>[[D_2017-12-01, D_2018-01-04, D_2018-01-06, D_...</td>\n",
       "    </tr>\n",
       "    <tr>\n",
       "      <th>1</th>\n",
       "      <td>[[U_1, U_1, U_1, U_1], [U_1, U_1, U_1, U_1], [...</td>\n",
       "      <td>[[S_79, S_4, S_92, S_92], [S_92, S_92, S_94, S...</td>\n",
       "      <td>[[D_2017-07-06, D_2018-01-26, D_2018-02-25, D_...</td>\n",
       "    </tr>\n",
       "  </tbody>\n",
       "</table>\n",
       "</div>\n",
       "      <button class=\"colab-df-convert\" onclick=\"convertToInteractive('df-0742c57f-0e72-47bf-97e0-90ed138519af')\"\n",
       "              title=\"Convert this dataframe to an interactive table.\"\n",
       "              style=\"display:none;\">\n",
       "        \n",
       "  <svg xmlns=\"http://www.w3.org/2000/svg\" height=\"24px\"viewBox=\"0 0 24 24\"\n",
       "       width=\"24px\">\n",
       "    <path d=\"M0 0h24v24H0V0z\" fill=\"none\"/>\n",
       "    <path d=\"M18.56 5.44l.94 2.06.94-2.06 2.06-.94-2.06-.94-.94-2.06-.94 2.06-2.06.94zm-11 1L8.5 8.5l.94-2.06 2.06-.94-2.06-.94L8.5 2.5l-.94 2.06-2.06.94zm10 10l.94 2.06.94-2.06 2.06-.94-2.06-.94-.94-2.06-.94 2.06-2.06.94z\"/><path d=\"M17.41 7.96l-1.37-1.37c-.4-.4-.92-.59-1.43-.59-.52 0-1.04.2-1.43.59L10.3 9.45l-7.72 7.72c-.78.78-.78 2.05 0 2.83L4 21.41c.39.39.9.59 1.41.59.51 0 1.02-.2 1.41-.59l7.78-7.78 2.81-2.81c.8-.78.8-2.07 0-2.86zM5.41 20L4 18.59l7.72-7.72 1.47 1.35L5.41 20z\"/>\n",
       "  </svg>\n",
       "      </button>\n",
       "      \n",
       "  <style>\n",
       "    .colab-df-container {\n",
       "      display:flex;\n",
       "      flex-wrap:wrap;\n",
       "      gap: 12px;\n",
       "    }\n",
       "\n",
       "    .colab-df-convert {\n",
       "      background-color: #E8F0FE;\n",
       "      border: none;\n",
       "      border-radius: 50%;\n",
       "      cursor: pointer;\n",
       "      display: none;\n",
       "      fill: #1967D2;\n",
       "      height: 32px;\n",
       "      padding: 0 0 0 0;\n",
       "      width: 32px;\n",
       "    }\n",
       "\n",
       "    .colab-df-convert:hover {\n",
       "      background-color: #E2EBFA;\n",
       "      box-shadow: 0px 1px 2px rgba(60, 64, 67, 0.3), 0px 1px 3px 1px rgba(60, 64, 67, 0.15);\n",
       "      fill: #174EA6;\n",
       "    }\n",
       "\n",
       "    [theme=dark] .colab-df-convert {\n",
       "      background-color: #3B4455;\n",
       "      fill: #D2E3FC;\n",
       "    }\n",
       "\n",
       "    [theme=dark] .colab-df-convert:hover {\n",
       "      background-color: #434B5C;\n",
       "      box-shadow: 0px 1px 3px 1px rgba(0, 0, 0, 0.15);\n",
       "      filter: drop-shadow(0px 1px 2px rgba(0, 0, 0, 0.3));\n",
       "      fill: #FFFFFF;\n",
       "    }\n",
       "  </style>\n",
       "\n",
       "      <script>\n",
       "        const buttonEl =\n",
       "          document.querySelector('#df-0742c57f-0e72-47bf-97e0-90ed138519af button.colab-df-convert');\n",
       "        buttonEl.style.display =\n",
       "          google.colab.kernel.accessAllowed ? 'block' : 'none';\n",
       "\n",
       "        async function convertToInteractive(key) {\n",
       "          const element = document.querySelector('#df-0742c57f-0e72-47bf-97e0-90ed138519af');\n",
       "          const dataTable =\n",
       "            await google.colab.kernel.invokeFunction('convertToInteractive',\n",
       "                                                     [key], {});\n",
       "          if (!dataTable) return;\n",
       "\n",
       "          const docLinkHtml = 'Like what you see? Visit the ' +\n",
       "            '<a target=\"_blank\" href=https://colab.research.google.com/notebooks/data_table.ipynb>data table notebook</a>'\n",
       "            + ' to learn more about interactive tables.';\n",
       "          element.innerHTML = '';\n",
       "          dataTable['output_type'] = 'display_data';\n",
       "          await google.colab.output.renderOutput(dataTable, element);\n",
       "          const docLink = document.createElement('div');\n",
       "          docLink.innerHTML = docLinkHtml;\n",
       "          element.appendChild(docLink);\n",
       "        }\n",
       "      </script>\n",
       "    </div>\n",
       "  </div>\n",
       "  "
      ],
      "text/plain": [
       "                                                user  \\\n",
       "0  [[U_0, U_0, U_0, U_0], [U_0, U_0, U_0, U_0], [...   \n",
       "1  [[U_1, U_1, U_1, U_1], [U_1, U_1, U_1, U_1], [...   \n",
       "\n",
       "                                             service  \\\n",
       "0  [[S_155, S_54, S_54, S_25], [S_25, S_15, S_95,...   \n",
       "1  [[S_79, S_4, S_92, S_92], [S_92, S_92, S_94, S...   \n",
       "\n",
       "                                                date  \n",
       "0  [[D_2017-12-01, D_2018-01-04, D_2018-01-06, D_...  \n",
       "1  [[D_2017-07-06, D_2018-01-26, D_2018-02-25, D_...  "
      ]
     },
     "execution_count": 39,
     "metadata": {},
     "output_type": "execute_result"
    }
   ],
   "source": [
    "ratings_data.head(2)"
   ]
  },
  {
   "cell_type": "code",
   "execution_count": null,
   "metadata": {
    "colab": {
     "base_uri": "https://localhost:8080/",
     "height": 423
    },
    "id": "ZjSmAkZGL1vl",
    "outputId": "bbc3bfe3-b6a2-422d-e4cc-280b43910828"
   },
   "outputs": [
    {
     "data": {
      "text/html": [
       "\n",
       "  <div id=\"df-4d13d48b-be82-4d10-b73d-a65cc284ade9\">\n",
       "    <div class=\"colab-df-container\">\n",
       "      <div>\n",
       "<style scoped>\n",
       "    .dataframe tbody tr th:only-of-type {\n",
       "        vertical-align: middle;\n",
       "    }\n",
       "\n",
       "    .dataframe tbody tr th {\n",
       "        vertical-align: top;\n",
       "    }\n",
       "\n",
       "    .dataframe thead th {\n",
       "        text-align: right;\n",
       "    }\n",
       "</style>\n",
       "<table border=\"1\" class=\"dataframe\">\n",
       "  <thead>\n",
       "    <tr style=\"text-align: right;\">\n",
       "      <th></th>\n",
       "      <th>user</th>\n",
       "      <th>service</th>\n",
       "      <th>date</th>\n",
       "    </tr>\n",
       "  </thead>\n",
       "  <tbody>\n",
       "    <tr>\n",
       "      <th>2</th>\n",
       "      <td>[]</td>\n",
       "      <td>[]</td>\n",
       "      <td>[]</td>\n",
       "    </tr>\n",
       "    <tr>\n",
       "      <th>3</th>\n",
       "      <td>[]</td>\n",
       "      <td>[]</td>\n",
       "      <td>[]</td>\n",
       "    </tr>\n",
       "    <tr>\n",
       "      <th>4</th>\n",
       "      <td>[]</td>\n",
       "      <td>[]</td>\n",
       "      <td>[]</td>\n",
       "    </tr>\n",
       "    <tr>\n",
       "      <th>5</th>\n",
       "      <td>[]</td>\n",
       "      <td>[]</td>\n",
       "      <td>[]</td>\n",
       "    </tr>\n",
       "    <tr>\n",
       "      <th>7</th>\n",
       "      <td>[]</td>\n",
       "      <td>[]</td>\n",
       "      <td>[]</td>\n",
       "    </tr>\n",
       "    <tr>\n",
       "      <th>...</th>\n",
       "      <td>...</td>\n",
       "      <td>...</td>\n",
       "      <td>...</td>\n",
       "    </tr>\n",
       "    <tr>\n",
       "      <th>426020</th>\n",
       "      <td>[]</td>\n",
       "      <td>[]</td>\n",
       "      <td>[]</td>\n",
       "    </tr>\n",
       "    <tr>\n",
       "      <th>426022</th>\n",
       "      <td>[]</td>\n",
       "      <td>[]</td>\n",
       "      <td>[]</td>\n",
       "    </tr>\n",
       "    <tr>\n",
       "      <th>426023</th>\n",
       "      <td>[]</td>\n",
       "      <td>[]</td>\n",
       "      <td>[]</td>\n",
       "    </tr>\n",
       "    <tr>\n",
       "      <th>426024</th>\n",
       "      <td>[]</td>\n",
       "      <td>[]</td>\n",
       "      <td>[]</td>\n",
       "    </tr>\n",
       "    <tr>\n",
       "      <th>426025</th>\n",
       "      <td>[]</td>\n",
       "      <td>[]</td>\n",
       "      <td>[]</td>\n",
       "    </tr>\n",
       "  </tbody>\n",
       "</table>\n",
       "<p>318318 rows × 3 columns</p>\n",
       "</div>\n",
       "      <button class=\"colab-df-convert\" onclick=\"convertToInteractive('df-4d13d48b-be82-4d10-b73d-a65cc284ade9')\"\n",
       "              title=\"Convert this dataframe to an interactive table.\"\n",
       "              style=\"display:none;\">\n",
       "        \n",
       "  <svg xmlns=\"http://www.w3.org/2000/svg\" height=\"24px\"viewBox=\"0 0 24 24\"\n",
       "       width=\"24px\">\n",
       "    <path d=\"M0 0h24v24H0V0z\" fill=\"none\"/>\n",
       "    <path d=\"M18.56 5.44l.94 2.06.94-2.06 2.06-.94-2.06-.94-.94-2.06-.94 2.06-2.06.94zm-11 1L8.5 8.5l.94-2.06 2.06-.94-2.06-.94L8.5 2.5l-.94 2.06-2.06.94zm10 10l.94 2.06.94-2.06 2.06-.94-2.06-.94-.94-2.06-.94 2.06-2.06.94z\"/><path d=\"M17.41 7.96l-1.37-1.37c-.4-.4-.92-.59-1.43-.59-.52 0-1.04.2-1.43.59L10.3 9.45l-7.72 7.72c-.78.78-.78 2.05 0 2.83L4 21.41c.39.39.9.59 1.41.59.51 0 1.02-.2 1.41-.59l7.78-7.78 2.81-2.81c.8-.78.8-2.07 0-2.86zM5.41 20L4 18.59l7.72-7.72 1.47 1.35L5.41 20z\"/>\n",
       "  </svg>\n",
       "      </button>\n",
       "      \n",
       "  <style>\n",
       "    .colab-df-container {\n",
       "      display:flex;\n",
       "      flex-wrap:wrap;\n",
       "      gap: 12px;\n",
       "    }\n",
       "\n",
       "    .colab-df-convert {\n",
       "      background-color: #E8F0FE;\n",
       "      border: none;\n",
       "      border-radius: 50%;\n",
       "      cursor: pointer;\n",
       "      display: none;\n",
       "      fill: #1967D2;\n",
       "      height: 32px;\n",
       "      padding: 0 0 0 0;\n",
       "      width: 32px;\n",
       "    }\n",
       "\n",
       "    .colab-df-convert:hover {\n",
       "      background-color: #E2EBFA;\n",
       "      box-shadow: 0px 1px 2px rgba(60, 64, 67, 0.3), 0px 1px 3px 1px rgba(60, 64, 67, 0.15);\n",
       "      fill: #174EA6;\n",
       "    }\n",
       "\n",
       "    [theme=dark] .colab-df-convert {\n",
       "      background-color: #3B4455;\n",
       "      fill: #D2E3FC;\n",
       "    }\n",
       "\n",
       "    [theme=dark] .colab-df-convert:hover {\n",
       "      background-color: #434B5C;\n",
       "      box-shadow: 0px 1px 3px 1px rgba(0, 0, 0, 0.15);\n",
       "      filter: drop-shadow(0px 1px 2px rgba(0, 0, 0, 0.3));\n",
       "      fill: #FFFFFF;\n",
       "    }\n",
       "  </style>\n",
       "\n",
       "      <script>\n",
       "        const buttonEl =\n",
       "          document.querySelector('#df-4d13d48b-be82-4d10-b73d-a65cc284ade9 button.colab-df-convert');\n",
       "        buttonEl.style.display =\n",
       "          google.colab.kernel.accessAllowed ? 'block' : 'none';\n",
       "\n",
       "        async function convertToInteractive(key) {\n",
       "          const element = document.querySelector('#df-4d13d48b-be82-4d10-b73d-a65cc284ade9');\n",
       "          const dataTable =\n",
       "            await google.colab.kernel.invokeFunction('convertToInteractive',\n",
       "                                                     [key], {});\n",
       "          if (!dataTable) return;\n",
       "\n",
       "          const docLinkHtml = 'Like what you see? Visit the ' +\n",
       "            '<a target=\"_blank\" href=https://colab.research.google.com/notebooks/data_table.ipynb>data table notebook</a>'\n",
       "            + ' to learn more about interactive tables.';\n",
       "          element.innerHTML = '';\n",
       "          dataTable['output_type'] = 'display_data';\n",
       "          await google.colab.output.renderOutput(dataTable, element);\n",
       "          const docLink = document.createElement('div');\n",
       "          docLink.innerHTML = docLinkHtml;\n",
       "          element.appendChild(docLink);\n",
       "        }\n",
       "      </script>\n",
       "    </div>\n",
       "  </div>\n",
       "  "
      ],
      "text/plain": [
       "       user service date\n",
       "2        []      []   []\n",
       "3        []      []   []\n",
       "4        []      []   []\n",
       "5        []      []   []\n",
       "7        []      []   []\n",
       "...     ...     ...  ...\n",
       "426020   []      []   []\n",
       "426022   []      []   []\n",
       "426023   []      []   []\n",
       "426024   []      []   []\n",
       "426025   []      []   []\n",
       "\n",
       "[318318 rows x 3 columns]"
      ]
     },
     "execution_count": 80,
     "metadata": {},
     "output_type": "execute_result"
    }
   ],
   "source": [
    "# Find the rows with empty lists\n",
    "ratings_data[ratings_data[\"service\"].str.len() == 0]"
   ]
  },
  {
   "cell_type": "code",
   "execution_count": null,
   "metadata": {
    "id": "SlI4lNZPMsUb"
   },
   "outputs": [],
   "source": [
    "# Remove rows with empty lists \n",
    "ratings_data=ratings_data[~ratings_data[\"service\"].str.len().eq(0)]"
   ]
  },
  {
   "cell_type": "code",
   "execution_count": null,
   "metadata": {
    "colab": {
     "base_uri": "https://localhost:8080/",
     "height": 206
    },
    "id": "RKFdsVU4DbQV",
    "outputId": "1b2390f1-7f05-4eda-a2a7-5867fad37e7f"
   },
   "outputs": [
    {
     "data": {
      "text/html": [
       "\n",
       "  <div id=\"df-c1b04c33-ed4e-48d1-9c63-cea56dd9a360\">\n",
       "    <div class=\"colab-df-container\">\n",
       "      <div>\n",
       "<style scoped>\n",
       "    .dataframe tbody tr th:only-of-type {\n",
       "        vertical-align: middle;\n",
       "    }\n",
       "\n",
       "    .dataframe tbody tr th {\n",
       "        vertical-align: top;\n",
       "    }\n",
       "\n",
       "    .dataframe thead th {\n",
       "        text-align: right;\n",
       "    }\n",
       "</style>\n",
       "<table border=\"1\" class=\"dataframe\">\n",
       "  <thead>\n",
       "    <tr style=\"text-align: right;\">\n",
       "      <th></th>\n",
       "      <th>user</th>\n",
       "      <th>service</th>\n",
       "      <th>date</th>\n",
       "    </tr>\n",
       "  </thead>\n",
       "  <tbody>\n",
       "    <tr>\n",
       "      <th>0</th>\n",
       "      <td>[[U_0, U_0, U_0, U_0], [U_0, U_0, U_0, U_0], [...</td>\n",
       "      <td>[[S_155, S_54, S_54, S_25], [S_25, S_15, S_95,...</td>\n",
       "      <td>[[D_2017-12-01, D_2018-01-04, D_2018-01-06, D_...</td>\n",
       "    </tr>\n",
       "    <tr>\n",
       "      <th>1</th>\n",
       "      <td>[[U_1, U_1, U_1, U_1], [U_1, U_1, U_1, U_1], [...</td>\n",
       "      <td>[[S_79, S_4, S_92, S_92], [S_92, S_92, S_94, S...</td>\n",
       "      <td>[[D_2017-07-06, D_2018-01-26, D_2018-02-25, D_...</td>\n",
       "    </tr>\n",
       "    <tr>\n",
       "      <th>6</th>\n",
       "      <td>[[U_1000022, U_1000022, U_1000022, U_1000022],...</td>\n",
       "      <td>[[S_139, S_172, S_4, S_126], [S_126, S_52, S_8...</td>\n",
       "      <td>[[D_2021-09-08, D_2021-09-08, D_2021-09-08, D_...</td>\n",
       "    </tr>\n",
       "    <tr>\n",
       "      <th>9</th>\n",
       "      <td>[[U_100003, U_100003, U_100003, U_100003], [U_...</td>\n",
       "      <td>[[S_335, S_339, S_516, S_504], [S_516, S_504, ...</td>\n",
       "      <td>[[D_2019-02-05, D_2019-02-06, D_2019-11-12, D_...</td>\n",
       "    </tr>\n",
       "    <tr>\n",
       "      <th>11</th>\n",
       "      <td>[[U_1000040, U_1000040, U_1000040, U_1000040],...</td>\n",
       "      <td>[[S_20, S_20, S_46, S_87], [S_20, S_20, S_46, ...</td>\n",
       "      <td>[[D_2021-09-08, D_2021-09-13, D_2021-09-26, D_...</td>\n",
       "    </tr>\n",
       "  </tbody>\n",
       "</table>\n",
       "</div>\n",
       "      <button class=\"colab-df-convert\" onclick=\"convertToInteractive('df-c1b04c33-ed4e-48d1-9c63-cea56dd9a360')\"\n",
       "              title=\"Convert this dataframe to an interactive table.\"\n",
       "              style=\"display:none;\">\n",
       "        \n",
       "  <svg xmlns=\"http://www.w3.org/2000/svg\" height=\"24px\"viewBox=\"0 0 24 24\"\n",
       "       width=\"24px\">\n",
       "    <path d=\"M0 0h24v24H0V0z\" fill=\"none\"/>\n",
       "    <path d=\"M18.56 5.44l.94 2.06.94-2.06 2.06-.94-2.06-.94-.94-2.06-.94 2.06-2.06.94zm-11 1L8.5 8.5l.94-2.06 2.06-.94-2.06-.94L8.5 2.5l-.94 2.06-2.06.94zm10 10l.94 2.06.94-2.06 2.06-.94-2.06-.94-.94-2.06-.94 2.06-2.06.94z\"/><path d=\"M17.41 7.96l-1.37-1.37c-.4-.4-.92-.59-1.43-.59-.52 0-1.04.2-1.43.59L10.3 9.45l-7.72 7.72c-.78.78-.78 2.05 0 2.83L4 21.41c.39.39.9.59 1.41.59.51 0 1.02-.2 1.41-.59l7.78-7.78 2.81-2.81c.8-.78.8-2.07 0-2.86zM5.41 20L4 18.59l7.72-7.72 1.47 1.35L5.41 20z\"/>\n",
       "  </svg>\n",
       "      </button>\n",
       "      \n",
       "  <style>\n",
       "    .colab-df-container {\n",
       "      display:flex;\n",
       "      flex-wrap:wrap;\n",
       "      gap: 12px;\n",
       "    }\n",
       "\n",
       "    .colab-df-convert {\n",
       "      background-color: #E8F0FE;\n",
       "      border: none;\n",
       "      border-radius: 50%;\n",
       "      cursor: pointer;\n",
       "      display: none;\n",
       "      fill: #1967D2;\n",
       "      height: 32px;\n",
       "      padding: 0 0 0 0;\n",
       "      width: 32px;\n",
       "    }\n",
       "\n",
       "    .colab-df-convert:hover {\n",
       "      background-color: #E2EBFA;\n",
       "      box-shadow: 0px 1px 2px rgba(60, 64, 67, 0.3), 0px 1px 3px 1px rgba(60, 64, 67, 0.15);\n",
       "      fill: #174EA6;\n",
       "    }\n",
       "\n",
       "    [theme=dark] .colab-df-convert {\n",
       "      background-color: #3B4455;\n",
       "      fill: #D2E3FC;\n",
       "    }\n",
       "\n",
       "    [theme=dark] .colab-df-convert:hover {\n",
       "      background-color: #434B5C;\n",
       "      box-shadow: 0px 1px 3px 1px rgba(0, 0, 0, 0.15);\n",
       "      filter: drop-shadow(0px 1px 2px rgba(0, 0, 0, 0.3));\n",
       "      fill: #FFFFFF;\n",
       "    }\n",
       "  </style>\n",
       "\n",
       "      <script>\n",
       "        const buttonEl =\n",
       "          document.querySelector('#df-c1b04c33-ed4e-48d1-9c63-cea56dd9a360 button.colab-df-convert');\n",
       "        buttonEl.style.display =\n",
       "          google.colab.kernel.accessAllowed ? 'block' : 'none';\n",
       "\n",
       "        async function convertToInteractive(key) {\n",
       "          const element = document.querySelector('#df-c1b04c33-ed4e-48d1-9c63-cea56dd9a360');\n",
       "          const dataTable =\n",
       "            await google.colab.kernel.invokeFunction('convertToInteractive',\n",
       "                                                     [key], {});\n",
       "          if (!dataTable) return;\n",
       "\n",
       "          const docLinkHtml = 'Like what you see? Visit the ' +\n",
       "            '<a target=\"_blank\" href=https://colab.research.google.com/notebooks/data_table.ipynb>data table notebook</a>'\n",
       "            + ' to learn more about interactive tables.';\n",
       "          element.innerHTML = '';\n",
       "          dataTable['output_type'] = 'display_data';\n",
       "          await google.colab.output.renderOutput(dataTable, element);\n",
       "          const docLink = document.createElement('div');\n",
       "          docLink.innerHTML = docLinkHtml;\n",
       "          element.appendChild(docLink);\n",
       "        }\n",
       "      </script>\n",
       "    </div>\n",
       "  </div>\n",
       "  "
      ],
      "text/plain": [
       "                                                 user  \\\n",
       "0   [[U_0, U_0, U_0, U_0], [U_0, U_0, U_0, U_0], [...   \n",
       "1   [[U_1, U_1, U_1, U_1], [U_1, U_1, U_1, U_1], [...   \n",
       "6   [[U_1000022, U_1000022, U_1000022, U_1000022],...   \n",
       "9   [[U_100003, U_100003, U_100003, U_100003], [U_...   \n",
       "11  [[U_1000040, U_1000040, U_1000040, U_1000040],...   \n",
       "\n",
       "                                              service  \\\n",
       "0   [[S_155, S_54, S_54, S_25], [S_25, S_15, S_95,...   \n",
       "1   [[S_79, S_4, S_92, S_92], [S_92, S_92, S_94, S...   \n",
       "6   [[S_139, S_172, S_4, S_126], [S_126, S_52, S_8...   \n",
       "9   [[S_335, S_339, S_516, S_504], [S_516, S_504, ...   \n",
       "11  [[S_20, S_20, S_46, S_87], [S_20, S_20, S_46, ...   \n",
       "\n",
       "                                                 date  \n",
       "0   [[D_2017-12-01, D_2018-01-04, D_2018-01-06, D_...  \n",
       "1   [[D_2017-07-06, D_2018-01-26, D_2018-02-25, D_...  \n",
       "6   [[D_2021-09-08, D_2021-09-08, D_2021-09-08, D_...  \n",
       "9   [[D_2019-02-05, D_2019-02-06, D_2019-11-12, D_...  \n",
       "11  [[D_2021-09-08, D_2021-09-13, D_2021-09-26, D_...  "
      ]
     },
     "execution_count": 82,
     "metadata": {},
     "output_type": "execute_result"
    }
   ],
   "source": [
    "ratings_data.head()"
   ]
  },
  {
   "cell_type": "code",
   "execution_count": null,
   "metadata": {
    "id": "4H2Flr8gMsXF"
   },
   "outputs": [],
   "source": [
    "ratings_data_item = ratings_data[[\"user\", \"service\"]].explode([\n",
    "    \"service\",'user'], ignore_index=True\n",
    ")\n",
    "\n",
    "ratings_data_rating = ratings_data[[\"date\"]].explode(\"date\", ignore_index=True)\n",
    "ratings_data_transformed = pd.concat([ratings_data_item, ratings_data_rating], axis=1)\n",
    "\n",
    "ratings_data_transformed.service = ratings_data_transformed.service.str.join(',')\n",
    "\n",
    "ratings_data_transformed.date = ratings_data_transformed.date.apply(\n",
    "    lambda x: \",\".join([str(v) for v in x])\n",
    ")\n",
    "ratings_data_transformed.user = ratings_data_transformed.user.apply(\n",
    "    lambda x: \",\".join([str(v) for v in x])\n",
    ")\n",
    "\n",
    "ratings_data_transformed.rename(\n",
    "    columns={'user':'sequences_user',\"service\": \"sequence_item_ids\", \"date\": \"sequence_Init\"},\n",
    "    inplace=True,\n",
    ")\n"
   ]
  },
  {
   "cell_type": "code",
   "execution_count": null,
   "metadata": {
    "colab": {
     "base_uri": "https://localhost:8080/",
     "height": 423
    },
    "id": "rnmE351qNU-L",
    "outputId": "dd4ad87d-c403-4ad5-8946-e5c4bb2d8b57"
   },
   "outputs": [
    {
     "data": {
      "text/html": [
       "\n",
       "  <div id=\"df-e0061409-9b5a-4fae-818c-a8a98cdafb4c\">\n",
       "    <div class=\"colab-df-container\">\n",
       "      <div>\n",
       "<style scoped>\n",
       "    .dataframe tbody tr th:only-of-type {\n",
       "        vertical-align: middle;\n",
       "    }\n",
       "\n",
       "    .dataframe tbody tr th {\n",
       "        vertical-align: top;\n",
       "    }\n",
       "\n",
       "    .dataframe thead th {\n",
       "        text-align: right;\n",
       "    }\n",
       "</style>\n",
       "<table border=\"1\" class=\"dataframe\">\n",
       "  <thead>\n",
       "    <tr style=\"text-align: right;\">\n",
       "      <th></th>\n",
       "      <th>sequences_user</th>\n",
       "      <th>sequence_item_ids</th>\n",
       "      <th>sequence_Init</th>\n",
       "    </tr>\n",
       "  </thead>\n",
       "  <tbody>\n",
       "    <tr>\n",
       "      <th>0</th>\n",
       "      <td>U_0,U_0,U_0,U_0</td>\n",
       "      <td>S_155,S_54,S_54,S_25</td>\n",
       "      <td>D_2017-12-01,D_2018-01-04,D_2018-01-06,D_2018-...</td>\n",
       "    </tr>\n",
       "    <tr>\n",
       "      <th>1</th>\n",
       "      <td>U_0,U_0,U_0,U_0</td>\n",
       "      <td>S_25,S_15,S_95,S_92</td>\n",
       "      <td>D_2018-01-07,D_2018-02-15,D_2018-02-25,D_2018-...</td>\n",
       "    </tr>\n",
       "    <tr>\n",
       "      <th>2</th>\n",
       "      <td>U_0,U_0,U_0,U_0</td>\n",
       "      <td>S_92,S_92,S_92,S_133</td>\n",
       "      <td>D_2018-02-27,D_2018-03-05,D_2018-03-13,D_2018-...</td>\n",
       "    </tr>\n",
       "    <tr>\n",
       "      <th>3</th>\n",
       "      <td>U_0,U_0,U_0,U_0</td>\n",
       "      <td>S_133,S_0,S_15,S_0</td>\n",
       "      <td>D_2018-03-15,D_2018-04-07,D_2018-04-16,D_2018-...</td>\n",
       "    </tr>\n",
       "    <tr>\n",
       "      <th>4</th>\n",
       "      <td>U_0,U_0,U_0,U_0</td>\n",
       "      <td>S_0,S_155,S_92,S_155</td>\n",
       "      <td>D_2018-04-18,D_2018-04-25,D_2018-05-03,D_2018-...</td>\n",
       "    </tr>\n",
       "    <tr>\n",
       "      <th>...</th>\n",
       "      <td>...</td>\n",
       "      <td>...</td>\n",
       "      <td>...</td>\n",
       "    </tr>\n",
       "    <tr>\n",
       "      <th>321491</th>\n",
       "      <td>U_99996,U_99996,U_99996,U_99996</td>\n",
       "      <td>S_44,S_55,S_20,S_44</td>\n",
       "      <td>D_2019-02-05,D_2019-02-10,D_2019-02-26,D_2020-...</td>\n",
       "    </tr>\n",
       "    <tr>\n",
       "      <th>321492</th>\n",
       "      <td>U_999978,U_999978,U_999978,U_999978</td>\n",
       "      <td>S_139,S_172,S_4,S_84</td>\n",
       "      <td>D_2021-09-08,D_2021-09-08,D_2021-12-22,D_2021-...</td>\n",
       "    </tr>\n",
       "    <tr>\n",
       "      <th>321493</th>\n",
       "      <td>U_999978,U_999978,U_999978,U_999978</td>\n",
       "      <td>S_139,S_172,S_4,S_84</td>\n",
       "      <td>D_2021-09-08,D_2021-09-08,D_2021-12-22,D_2021-...</td>\n",
       "    </tr>\n",
       "    <tr>\n",
       "      <th>321494</th>\n",
       "      <td>U_999988,U_999988,U_999988,U_999988</td>\n",
       "      <td>S_43,S_43,S_43,S_43</td>\n",
       "      <td>D_2021-09-08,D_2021-11-29,D_2021-11-30,D_2021-...</td>\n",
       "    </tr>\n",
       "    <tr>\n",
       "      <th>321495</th>\n",
       "      <td>U_999988,U_999988,U_999988,U_999988</td>\n",
       "      <td>S_43,S_43,S_43,S_43</td>\n",
       "      <td>D_2021-11-29,D_2021-11-30,D_2021-12-03,D_2021-...</td>\n",
       "    </tr>\n",
       "  </tbody>\n",
       "</table>\n",
       "<p>321496 rows × 3 columns</p>\n",
       "</div>\n",
       "      <button class=\"colab-df-convert\" onclick=\"convertToInteractive('df-e0061409-9b5a-4fae-818c-a8a98cdafb4c')\"\n",
       "              title=\"Convert this dataframe to an interactive table.\"\n",
       "              style=\"display:none;\">\n",
       "        \n",
       "  <svg xmlns=\"http://www.w3.org/2000/svg\" height=\"24px\"viewBox=\"0 0 24 24\"\n",
       "       width=\"24px\">\n",
       "    <path d=\"M0 0h24v24H0V0z\" fill=\"none\"/>\n",
       "    <path d=\"M18.56 5.44l.94 2.06.94-2.06 2.06-.94-2.06-.94-.94-2.06-.94 2.06-2.06.94zm-11 1L8.5 8.5l.94-2.06 2.06-.94-2.06-.94L8.5 2.5l-.94 2.06-2.06.94zm10 10l.94 2.06.94-2.06 2.06-.94-2.06-.94-.94-2.06-.94 2.06-2.06.94z\"/><path d=\"M17.41 7.96l-1.37-1.37c-.4-.4-.92-.59-1.43-.59-.52 0-1.04.2-1.43.59L10.3 9.45l-7.72 7.72c-.78.78-.78 2.05 0 2.83L4 21.41c.39.39.9.59 1.41.59.51 0 1.02-.2 1.41-.59l7.78-7.78 2.81-2.81c.8-.78.8-2.07 0-2.86zM5.41 20L4 18.59l7.72-7.72 1.47 1.35L5.41 20z\"/>\n",
       "  </svg>\n",
       "      </button>\n",
       "      \n",
       "  <style>\n",
       "    .colab-df-container {\n",
       "      display:flex;\n",
       "      flex-wrap:wrap;\n",
       "      gap: 12px;\n",
       "    }\n",
       "\n",
       "    .colab-df-convert {\n",
       "      background-color: #E8F0FE;\n",
       "      border: none;\n",
       "      border-radius: 50%;\n",
       "      cursor: pointer;\n",
       "      display: none;\n",
       "      fill: #1967D2;\n",
       "      height: 32px;\n",
       "      padding: 0 0 0 0;\n",
       "      width: 32px;\n",
       "    }\n",
       "\n",
       "    .colab-df-convert:hover {\n",
       "      background-color: #E2EBFA;\n",
       "      box-shadow: 0px 1px 2px rgba(60, 64, 67, 0.3), 0px 1px 3px 1px rgba(60, 64, 67, 0.15);\n",
       "      fill: #174EA6;\n",
       "    }\n",
       "\n",
       "    [theme=dark] .colab-df-convert {\n",
       "      background-color: #3B4455;\n",
       "      fill: #D2E3FC;\n",
       "    }\n",
       "\n",
       "    [theme=dark] .colab-df-convert:hover {\n",
       "      background-color: #434B5C;\n",
       "      box-shadow: 0px 1px 3px 1px rgba(0, 0, 0, 0.15);\n",
       "      filter: drop-shadow(0px 1px 2px rgba(0, 0, 0, 0.3));\n",
       "      fill: #FFFFFF;\n",
       "    }\n",
       "  </style>\n",
       "\n",
       "      <script>\n",
       "        const buttonEl =\n",
       "          document.querySelector('#df-e0061409-9b5a-4fae-818c-a8a98cdafb4c button.colab-df-convert');\n",
       "        buttonEl.style.display =\n",
       "          google.colab.kernel.accessAllowed ? 'block' : 'none';\n",
       "\n",
       "        async function convertToInteractive(key) {\n",
       "          const element = document.querySelector('#df-e0061409-9b5a-4fae-818c-a8a98cdafb4c');\n",
       "          const dataTable =\n",
       "            await google.colab.kernel.invokeFunction('convertToInteractive',\n",
       "                                                     [key], {});\n",
       "          if (!dataTable) return;\n",
       "\n",
       "          const docLinkHtml = 'Like what you see? Visit the ' +\n",
       "            '<a target=\"_blank\" href=https://colab.research.google.com/notebooks/data_table.ipynb>data table notebook</a>'\n",
       "            + ' to learn more about interactive tables.';\n",
       "          element.innerHTML = '';\n",
       "          dataTable['output_type'] = 'display_data';\n",
       "          await google.colab.output.renderOutput(dataTable, element);\n",
       "          const docLink = document.createElement('div');\n",
       "          docLink.innerHTML = docLinkHtml;\n",
       "          element.appendChild(docLink);\n",
       "        }\n",
       "      </script>\n",
       "    </div>\n",
       "  </div>\n",
       "  "
      ],
      "text/plain": [
       "                             sequences_user     sequence_item_ids  \\\n",
       "0                           U_0,U_0,U_0,U_0  S_155,S_54,S_54,S_25   \n",
       "1                           U_0,U_0,U_0,U_0   S_25,S_15,S_95,S_92   \n",
       "2                           U_0,U_0,U_0,U_0  S_92,S_92,S_92,S_133   \n",
       "3                           U_0,U_0,U_0,U_0    S_133,S_0,S_15,S_0   \n",
       "4                           U_0,U_0,U_0,U_0  S_0,S_155,S_92,S_155   \n",
       "...                                     ...                   ...   \n",
       "321491      U_99996,U_99996,U_99996,U_99996   S_44,S_55,S_20,S_44   \n",
       "321492  U_999978,U_999978,U_999978,U_999978  S_139,S_172,S_4,S_84   \n",
       "321493  U_999978,U_999978,U_999978,U_999978  S_139,S_172,S_4,S_84   \n",
       "321494  U_999988,U_999988,U_999988,U_999988   S_43,S_43,S_43,S_43   \n",
       "321495  U_999988,U_999988,U_999988,U_999988   S_43,S_43,S_43,S_43   \n",
       "\n",
       "                                            sequence_Init  \n",
       "0       D_2017-12-01,D_2018-01-04,D_2018-01-06,D_2018-...  \n",
       "1       D_2018-01-07,D_2018-02-15,D_2018-02-25,D_2018-...  \n",
       "2       D_2018-02-27,D_2018-03-05,D_2018-03-13,D_2018-...  \n",
       "3       D_2018-03-15,D_2018-04-07,D_2018-04-16,D_2018-...  \n",
       "4       D_2018-04-18,D_2018-04-25,D_2018-05-03,D_2018-...  \n",
       "...                                                   ...  \n",
       "321491  D_2019-02-05,D_2019-02-10,D_2019-02-26,D_2020-...  \n",
       "321492  D_2021-09-08,D_2021-09-08,D_2021-12-22,D_2021-...  \n",
       "321493  D_2021-09-08,D_2021-09-08,D_2021-12-22,D_2021-...  \n",
       "321494  D_2021-09-08,D_2021-11-29,D_2021-11-30,D_2021-...  \n",
       "321495  D_2021-11-29,D_2021-11-30,D_2021-12-03,D_2021-...  \n",
       "\n",
       "[321496 rows x 3 columns]"
      ]
     },
     "execution_count": 44,
     "metadata": {},
     "output_type": "execute_result"
    }
   ],
   "source": [
    "ratings_data_transformed"
   ]
  },
  {
   "cell_type": "markdown",
   "metadata": {
    "id": "z6-8-jEzDxZ0"
   },
   "source": [
    "Create target column with the last services that used in each rows"
   ]
  },
  {
   "cell_type": "code",
   "execution_count": null,
   "metadata": {
    "colab": {
     "base_uri": "https://localhost:8080/",
     "height": 206
    },
    "id": "EwaD9r8gMsZw",
    "outputId": "92e84cfe-bd9b-43ef-b005-86b59661098e"
   },
   "outputs": [
    {
     "data": {
      "text/html": [
       "\n",
       "  <div id=\"df-402b6d64-a055-4a26-9ae5-44135faac2a9\">\n",
       "    <div class=\"colab-df-container\">\n",
       "      <div>\n",
       "<style scoped>\n",
       "    .dataframe tbody tr th:only-of-type {\n",
       "        vertical-align: middle;\n",
       "    }\n",
       "\n",
       "    .dataframe tbody tr th {\n",
       "        vertical-align: top;\n",
       "    }\n",
       "\n",
       "    .dataframe thead th {\n",
       "        text-align: right;\n",
       "    }\n",
       "</style>\n",
       "<table border=\"1\" class=\"dataframe\">\n",
       "  <thead>\n",
       "    <tr style=\"text-align: right;\">\n",
       "      <th></th>\n",
       "      <th>sequences_user</th>\n",
       "      <th>sequence_item_ids</th>\n",
       "      <th>sequence_Init</th>\n",
       "      <th>target</th>\n",
       "    </tr>\n",
       "  </thead>\n",
       "  <tbody>\n",
       "    <tr>\n",
       "      <th>0</th>\n",
       "      <td>U_0,U_0,U_0,U_0</td>\n",
       "      <td>S_155,S_54,S_54,S_25</td>\n",
       "      <td>D_2017-12-01,D_2018-01-04,D_2018-01-06,D_2018-...</td>\n",
       "      <td>S_25</td>\n",
       "    </tr>\n",
       "    <tr>\n",
       "      <th>1</th>\n",
       "      <td>U_0,U_0,U_0,U_0</td>\n",
       "      <td>S_25,S_15,S_95,S_92</td>\n",
       "      <td>D_2018-01-07,D_2018-02-15,D_2018-02-25,D_2018-...</td>\n",
       "      <td>S_92</td>\n",
       "    </tr>\n",
       "    <tr>\n",
       "      <th>2</th>\n",
       "      <td>U_0,U_0,U_0,U_0</td>\n",
       "      <td>S_92,S_92,S_92,S_133</td>\n",
       "      <td>D_2018-02-27,D_2018-03-05,D_2018-03-13,D_2018-...</td>\n",
       "      <td>S_133</td>\n",
       "    </tr>\n",
       "    <tr>\n",
       "      <th>3</th>\n",
       "      <td>U_0,U_0,U_0,U_0</td>\n",
       "      <td>S_133,S_0,S_15,S_0</td>\n",
       "      <td>D_2018-03-15,D_2018-04-07,D_2018-04-16,D_2018-...</td>\n",
       "      <td>S_0</td>\n",
       "    </tr>\n",
       "    <tr>\n",
       "      <th>4</th>\n",
       "      <td>U_0,U_0,U_0,U_0</td>\n",
       "      <td>S_0,S_155,S_92,S_155</td>\n",
       "      <td>D_2018-04-18,D_2018-04-25,D_2018-05-03,D_2018-...</td>\n",
       "      <td>S_155</td>\n",
       "    </tr>\n",
       "  </tbody>\n",
       "</table>\n",
       "</div>\n",
       "      <button class=\"colab-df-convert\" onclick=\"convertToInteractive('df-402b6d64-a055-4a26-9ae5-44135faac2a9')\"\n",
       "              title=\"Convert this dataframe to an interactive table.\"\n",
       "              style=\"display:none;\">\n",
       "        \n",
       "  <svg xmlns=\"http://www.w3.org/2000/svg\" height=\"24px\"viewBox=\"0 0 24 24\"\n",
       "       width=\"24px\">\n",
       "    <path d=\"M0 0h24v24H0V0z\" fill=\"none\"/>\n",
       "    <path d=\"M18.56 5.44l.94 2.06.94-2.06 2.06-.94-2.06-.94-.94-2.06-.94 2.06-2.06.94zm-11 1L8.5 8.5l.94-2.06 2.06-.94-2.06-.94L8.5 2.5l-.94 2.06-2.06.94zm10 10l.94 2.06.94-2.06 2.06-.94-2.06-.94-.94-2.06-.94 2.06-2.06.94z\"/><path d=\"M17.41 7.96l-1.37-1.37c-.4-.4-.92-.59-1.43-.59-.52 0-1.04.2-1.43.59L10.3 9.45l-7.72 7.72c-.78.78-.78 2.05 0 2.83L4 21.41c.39.39.9.59 1.41.59.51 0 1.02-.2 1.41-.59l7.78-7.78 2.81-2.81c.8-.78.8-2.07 0-2.86zM5.41 20L4 18.59l7.72-7.72 1.47 1.35L5.41 20z\"/>\n",
       "  </svg>\n",
       "      </button>\n",
       "      \n",
       "  <style>\n",
       "    .colab-df-container {\n",
       "      display:flex;\n",
       "      flex-wrap:wrap;\n",
       "      gap: 12px;\n",
       "    }\n",
       "\n",
       "    .colab-df-convert {\n",
       "      background-color: #E8F0FE;\n",
       "      border: none;\n",
       "      border-radius: 50%;\n",
       "      cursor: pointer;\n",
       "      display: none;\n",
       "      fill: #1967D2;\n",
       "      height: 32px;\n",
       "      padding: 0 0 0 0;\n",
       "      width: 32px;\n",
       "    }\n",
       "\n",
       "    .colab-df-convert:hover {\n",
       "      background-color: #E2EBFA;\n",
       "      box-shadow: 0px 1px 2px rgba(60, 64, 67, 0.3), 0px 1px 3px 1px rgba(60, 64, 67, 0.15);\n",
       "      fill: #174EA6;\n",
       "    }\n",
       "\n",
       "    [theme=dark] .colab-df-convert {\n",
       "      background-color: #3B4455;\n",
       "      fill: #D2E3FC;\n",
       "    }\n",
       "\n",
       "    [theme=dark] .colab-df-convert:hover {\n",
       "      background-color: #434B5C;\n",
       "      box-shadow: 0px 1px 3px 1px rgba(0, 0, 0, 0.15);\n",
       "      filter: drop-shadow(0px 1px 2px rgba(0, 0, 0, 0.3));\n",
       "      fill: #FFFFFF;\n",
       "    }\n",
       "  </style>\n",
       "\n",
       "      <script>\n",
       "        const buttonEl =\n",
       "          document.querySelector('#df-402b6d64-a055-4a26-9ae5-44135faac2a9 button.colab-df-convert');\n",
       "        buttonEl.style.display =\n",
       "          google.colab.kernel.accessAllowed ? 'block' : 'none';\n",
       "\n",
       "        async function convertToInteractive(key) {\n",
       "          const element = document.querySelector('#df-402b6d64-a055-4a26-9ae5-44135faac2a9');\n",
       "          const dataTable =\n",
       "            await google.colab.kernel.invokeFunction('convertToInteractive',\n",
       "                                                     [key], {});\n",
       "          if (!dataTable) return;\n",
       "\n",
       "          const docLinkHtml = 'Like what you see? Visit the ' +\n",
       "            '<a target=\"_blank\" href=https://colab.research.google.com/notebooks/data_table.ipynb>data table notebook</a>'\n",
       "            + ' to learn more about interactive tables.';\n",
       "          element.innerHTML = '';\n",
       "          dataTable['output_type'] = 'display_data';\n",
       "          await google.colab.output.renderOutput(dataTable, element);\n",
       "          const docLink = document.createElement('div');\n",
       "          docLink.innerHTML = docLinkHtml;\n",
       "          element.appendChild(docLink);\n",
       "        }\n",
       "      </script>\n",
       "    </div>\n",
       "  </div>\n",
       "  "
      ],
      "text/plain": [
       "    sequences_user     sequence_item_ids  \\\n",
       "0  U_0,U_0,U_0,U_0  S_155,S_54,S_54,S_25   \n",
       "1  U_0,U_0,U_0,U_0   S_25,S_15,S_95,S_92   \n",
       "2  U_0,U_0,U_0,U_0  S_92,S_92,S_92,S_133   \n",
       "3  U_0,U_0,U_0,U_0    S_133,S_0,S_15,S_0   \n",
       "4  U_0,U_0,U_0,U_0  S_0,S_155,S_92,S_155   \n",
       "\n",
       "                                       sequence_Init target  \n",
       "0  D_2017-12-01,D_2018-01-04,D_2018-01-06,D_2018-...   S_25  \n",
       "1  D_2018-01-07,D_2018-02-15,D_2018-02-25,D_2018-...   S_92  \n",
       "2  D_2018-02-27,D_2018-03-05,D_2018-03-13,D_2018-...  S_133  \n",
       "3  D_2018-03-15,D_2018-04-07,D_2018-04-16,D_2018-...    S_0  \n",
       "4  D_2018-04-18,D_2018-04-25,D_2018-05-03,D_2018-...  S_155  "
      ]
     },
     "execution_count": 84,
     "metadata": {},
     "output_type": "execute_result"
    }
   ],
   "source": [
    "ratings_data_transformed['target']=ratings_data_transformed['sequence_item_ids'].apply(lambda sentence: sentence.split(',')[-1].split(',')[-1])\n",
    "ratings_data_transformed.head()"
   ]
  },
  {
   "cell_type": "markdown",
   "metadata": {
    "id": "1agBCAc8D6Ke"
   },
   "source": [
    "Create sequences column and join three columns sequences_user,sequence_item_ids,sequence_Init as a sentence so each row contain 4 sentences with this format: user_0 used service_155 in date D_2018-01-06"
   ]
  },
  {
   "cell_type": "code",
   "execution_count": null,
   "metadata": {
    "id": "XSu7OnIEkNdM"
   },
   "outputs": [],
   "source": [
    "ratings_data_transformed['sequence'] = ratings_data_transformed.apply(lambda row: \", \".join([f\"{u} {s} {d}\" for u, s, d in zip(row['sequences_user'].split(','), row['sequence_item_ids'].split(','), row['sequence_Init'].split(','))]), axis=1)\n"
   ]
  },
  {
   "cell_type": "code",
   "execution_count": null,
   "metadata": {
    "colab": {
     "base_uri": "https://localhost:8080/",
     "height": 216
    },
    "id": "oGHK1iJckVf5",
    "outputId": "22003df8-dc10-4d2d-9ace-6991dd49e1d4"
   },
   "outputs": [
    {
     "data": {
      "text/html": [
       "\n",
       "  <div id=\"df-08129f2e-1a69-4fa3-9570-bfc8f09b4f09\">\n",
       "    <div class=\"colab-df-container\">\n",
       "      <div>\n",
       "<style scoped>\n",
       "    .dataframe tbody tr th:only-of-type {\n",
       "        vertical-align: middle;\n",
       "    }\n",
       "\n",
       "    .dataframe tbody tr th {\n",
       "        vertical-align: top;\n",
       "    }\n",
       "\n",
       "    .dataframe thead th {\n",
       "        text-align: right;\n",
       "    }\n",
       "</style>\n",
       "<table border=\"1\" class=\"dataframe\">\n",
       "  <thead>\n",
       "    <tr style=\"text-align: right;\">\n",
       "      <th></th>\n",
       "      <th>target</th>\n",
       "      <th>sequence</th>\n",
       "    </tr>\n",
       "  </thead>\n",
       "  <tbody>\n",
       "    <tr>\n",
       "      <th>0</th>\n",
       "      <td>S_25</td>\n",
       "      <td>U_0 S_155 D_2017-12-01, U_0 S_54 D_2018-01-04,...</td>\n",
       "    </tr>\n",
       "    <tr>\n",
       "      <th>1</th>\n",
       "      <td>S_92</td>\n",
       "      <td>U_0 S_25 D_2018-01-07, U_0 S_15 D_2018-02-15, ...</td>\n",
       "    </tr>\n",
       "    <tr>\n",
       "      <th>2</th>\n",
       "      <td>S_133</td>\n",
       "      <td>U_0 S_92 D_2018-02-27, U_0 S_92 D_2018-03-05, ...</td>\n",
       "    </tr>\n",
       "    <tr>\n",
       "      <th>3</th>\n",
       "      <td>S_0</td>\n",
       "      <td>U_0 S_133 D_2018-03-15, U_0 S_0 D_2018-04-07, ...</td>\n",
       "    </tr>\n",
       "    <tr>\n",
       "      <th>4</th>\n",
       "      <td>S_155</td>\n",
       "      <td>U_0 S_0 D_2018-04-18, U_0 S_155 D_2018-04-25, ...</td>\n",
       "    </tr>\n",
       "  </tbody>\n",
       "</table>\n",
       "</div>\n",
       "      <button class=\"colab-df-convert\" onclick=\"convertToInteractive('df-08129f2e-1a69-4fa3-9570-bfc8f09b4f09')\"\n",
       "              title=\"Convert this dataframe to an interactive table.\"\n",
       "              style=\"display:none;\">\n",
       "        \n",
       "  <svg xmlns=\"http://www.w3.org/2000/svg\" height=\"24px\"viewBox=\"0 0 24 24\"\n",
       "       width=\"24px\">\n",
       "    <path d=\"M0 0h24v24H0V0z\" fill=\"none\"/>\n",
       "    <path d=\"M18.56 5.44l.94 2.06.94-2.06 2.06-.94-2.06-.94-.94-2.06-.94 2.06-2.06.94zm-11 1L8.5 8.5l.94-2.06 2.06-.94-2.06-.94L8.5 2.5l-.94 2.06-2.06.94zm10 10l.94 2.06.94-2.06 2.06-.94-2.06-.94-.94-2.06-.94 2.06-2.06.94z\"/><path d=\"M17.41 7.96l-1.37-1.37c-.4-.4-.92-.59-1.43-.59-.52 0-1.04.2-1.43.59L10.3 9.45l-7.72 7.72c-.78.78-.78 2.05 0 2.83L4 21.41c.39.39.9.59 1.41.59.51 0 1.02-.2 1.41-.59l7.78-7.78 2.81-2.81c.8-.78.8-2.07 0-2.86zM5.41 20L4 18.59l7.72-7.72 1.47 1.35L5.41 20z\"/>\n",
       "  </svg>\n",
       "      </button>\n",
       "      \n",
       "  <style>\n",
       "    .colab-df-container {\n",
       "      display:flex;\n",
       "      flex-wrap:wrap;\n",
       "      gap: 12px;\n",
       "    }\n",
       "\n",
       "    .colab-df-convert {\n",
       "      background-color: #E8F0FE;\n",
       "      border: none;\n",
       "      border-radius: 50%;\n",
       "      cursor: pointer;\n",
       "      display: none;\n",
       "      fill: #1967D2;\n",
       "      height: 32px;\n",
       "      padding: 0 0 0 0;\n",
       "      width: 32px;\n",
       "    }\n",
       "\n",
       "    .colab-df-convert:hover {\n",
       "      background-color: #E2EBFA;\n",
       "      box-shadow: 0px 1px 2px rgba(60, 64, 67, 0.3), 0px 1px 3px 1px rgba(60, 64, 67, 0.15);\n",
       "      fill: #174EA6;\n",
       "    }\n",
       "\n",
       "    [theme=dark] .colab-df-convert {\n",
       "      background-color: #3B4455;\n",
       "      fill: #D2E3FC;\n",
       "    }\n",
       "\n",
       "    [theme=dark] .colab-df-convert:hover {\n",
       "      background-color: #434B5C;\n",
       "      box-shadow: 0px 1px 3px 1px rgba(0, 0, 0, 0.15);\n",
       "      filter: drop-shadow(0px 1px 2px rgba(0, 0, 0, 0.3));\n",
       "      fill: #FFFFFF;\n",
       "    }\n",
       "  </style>\n",
       "\n",
       "      <script>\n",
       "        const buttonEl =\n",
       "          document.querySelector('#df-08129f2e-1a69-4fa3-9570-bfc8f09b4f09 button.colab-df-convert');\n",
       "        buttonEl.style.display =\n",
       "          google.colab.kernel.accessAllowed ? 'block' : 'none';\n",
       "\n",
       "        async function convertToInteractive(key) {\n",
       "          const element = document.querySelector('#df-08129f2e-1a69-4fa3-9570-bfc8f09b4f09');\n",
       "          const dataTable =\n",
       "            await google.colab.kernel.invokeFunction('convertToInteractive',\n",
       "                                                     [key], {});\n",
       "          if (!dataTable) return;\n",
       "\n",
       "          const docLinkHtml = 'Like what you see? Visit the ' +\n",
       "            '<a target=\"_blank\" href=https://colab.research.google.com/notebooks/data_table.ipynb>data table notebook</a>'\n",
       "            + ' to learn more about interactive tables.';\n",
       "          element.innerHTML = '';\n",
       "          dataTable['output_type'] = 'display_data';\n",
       "          await google.colab.output.renderOutput(dataTable, element);\n",
       "          const docLink = document.createElement('div');\n",
       "          docLink.innerHTML = docLinkHtml;\n",
       "          element.appendChild(docLink);\n",
       "        }\n",
       "      </script>\n",
       "    </div>\n",
       "  </div>\n",
       "  "
      ],
      "text/plain": [
       "  target                                           sequence\n",
       "0   S_25  U_0 S_155 D_2017-12-01, U_0 S_54 D_2018-01-04,...\n",
       "1   S_92  U_0 S_25 D_2018-01-07, U_0 S_15 D_2018-02-15, ...\n",
       "2  S_133  U_0 S_92 D_2018-02-27, U_0 S_92 D_2018-03-05, ...\n",
       "3    S_0  U_0 S_133 D_2018-03-15, U_0 S_0 D_2018-04-07, ...\n",
       "4  S_155  U_0 S_0 D_2018-04-18, U_0 S_155 D_2018-04-25, ..."
      ]
     },
     "execution_count": 86,
     "metadata": {},
     "output_type": "execute_result"
    }
   ],
   "source": [
    "df=ratings_data_transformed.drop(['sequences_user','sequence_item_ids','sequence_Init'],axis=1)\n",
    "df.head()"
   ]
  },
  {
   "cell_type": "code",
   "execution_count": null,
   "metadata": {
    "id": "_7xuCqGm68mt"
   },
   "outputs": [],
   "source": [
    "df.to_csv('/content/drive/MyDrive/Recommendation/GPT2_Sequence_final1.csv')"
   ]
  },
  {
   "cell_type": "code",
   "execution_count": null,
   "metadata": {
    "id": "8A8dd1GVOhlC"
   },
   "outputs": [],
   "source": [
    "df1=pd.read_csv('/content/drive/MyDrive/Recommendation/GPT2_Sequence_final.csv')\n",
    "df1= df1.loc[:, ~df1.columns.str.contains('^Unnamed')]\n",
    "\n",
    "df1.head()"
   ]
  },
  {
   "cell_type": "markdown",
   "metadata": {
    "id": "L_xMsqpR7Orl"
   },
   "source": [
    "# GPT2\n"
   ]
  },
  {
   "cell_type": "markdown",
   "metadata": {
    "id": "VeW6nB4DbsAg"
   },
   "source": [
    "## Install and import libraries for GPT2"
   ]
  },
  {
   "cell_type": "code",
   "execution_count": 66,
   "metadata": {
    "id": "ocU4CTPPcGpy"
   },
   "outputs": [],
   "source": [
    "!pip install transformers"
   ]
  },
  {
   "cell_type": "code",
   "execution_count": 67,
   "metadata": {
    "id": "bpzmohWmcKVx"
   },
   "outputs": [],
   "source": [
    "import pandas as pd\n",
    "import numpy as np\n",
    "from sklearn.model_selection import train_test_split\n",
    "from transformers import GPT2LMHeadModel, GPT2Tokenizer, TextDataset, DataCollatorForLanguageModeling, Trainer, TrainingArguments,GPT2Config, AdamW\n",
    "import torch\n",
    "from torch.utils.data import Dataset, DataLoader"
   ]
  },
  {
   "cell_type": "code",
   "execution_count": 68,
   "metadata": {
    "id": "cvwD-bPVcKZY"
   },
   "outputs": [],
   "source": [
    "device = torch.device(\"cuda\" if torch.cuda.is_available() else \"cpu\")"
   ]
  },
  {
   "cell_type": "markdown",
   "metadata": {
    "id": "6vYI6eSrclte"
   },
   "source": [
    "## Load GPT2 model and tokenizer"
   ]
  },
  {
   "cell_type": "code",
   "execution_count": 69,
   "metadata": {
    "id": "2TDOSS5dctcj"
   },
   "outputs": [],
   "source": [
    "# Initialize the tokenizer\n",
    "tokenizer = GPT2Tokenizer.from_pretrained('gpt2')\n",
    "tokenizer.pad_token = tokenizer.eos_token"
   ]
  },
  {
   "cell_type": "code",
   "execution_count": null,
   "metadata": {
    "id": "FgaYaSl6ctgm"
   },
   "outputs": [],
   "source": [
    "# Initialize the GPT-2 model\n",
    "model_name = 'DistilGPT2' \n",
    "modell = GPT2LMHeadModel.from_pretrained(model_name).to(device)"
   ]
  },
  {
   "cell_type": "code",
   "execution_count": null,
   "metadata": {
    "id": "_FBxfAoLmyj_"
   },
   "outputs": [],
   "source": [
    "print(modell)"
   ]
  },
  {
   "cell_type": "markdown",
   "metadata": {
    "id": "xeTjgbJnc4z9"
   },
   "source": [
    "## Read dataset and create pytorch dataset and dataloader"
   ]
  },
  {
   "cell_type": "code",
   "execution_count": null,
   "metadata": {
    "colab": {
     "base_uri": "https://localhost:8080/",
     "height": 206
    },
    "id": "SBOH8_os7QxD",
    "outputId": "f13d5b25-91ac-4b19-a798-5f6d0a5b8b4c"
   },
   "outputs": [
    {
     "data": {
      "text/html": [
       "\n",
       "  <div id=\"df-e746b29b-3ec7-4007-a169-7bc756032d34\">\n",
       "    <div class=\"colab-df-container\">\n",
       "      <div>\n",
       "<style scoped>\n",
       "    .dataframe tbody tr th:only-of-type {\n",
       "        vertical-align: middle;\n",
       "    }\n",
       "\n",
       "    .dataframe tbody tr th {\n",
       "        vertical-align: top;\n",
       "    }\n",
       "\n",
       "    .dataframe thead th {\n",
       "        text-align: right;\n",
       "    }\n",
       "</style>\n",
       "<table border=\"1\" class=\"dataframe\">\n",
       "  <thead>\n",
       "    <tr style=\"text-align: right;\">\n",
       "      <th></th>\n",
       "      <th>target</th>\n",
       "      <th>sequence</th>\n",
       "    </tr>\n",
       "  </thead>\n",
       "  <tbody>\n",
       "    <tr>\n",
       "      <th>0</th>\n",
       "      <td>S_25</td>\n",
       "      <td>U_0 S_155 D_2017-12-01, U_0 S_54 D_2018-01-04,...</td>\n",
       "    </tr>\n",
       "    <tr>\n",
       "      <th>1</th>\n",
       "      <td>S_92</td>\n",
       "      <td>U_0 S_25 D_2018-01-07, U_0 S_15 D_2018-02-15, ...</td>\n",
       "    </tr>\n",
       "    <tr>\n",
       "      <th>2</th>\n",
       "      <td>S_133</td>\n",
       "      <td>U_0 S_92 D_2018-02-27, U_0 S_92 D_2018-03-05, ...</td>\n",
       "    </tr>\n",
       "    <tr>\n",
       "      <th>3</th>\n",
       "      <td>S_0</td>\n",
       "      <td>U_0 S_133 D_2018-03-15, U_0 S_0 D_2018-04-07, ...</td>\n",
       "    </tr>\n",
       "    <tr>\n",
       "      <th>4</th>\n",
       "      <td>S_155</td>\n",
       "      <td>U_0 S_0 D_2018-04-18, U_0 S_155 D_2018-04-25, ...</td>\n",
       "    </tr>\n",
       "  </tbody>\n",
       "</table>\n",
       "</div>\n",
       "      <button class=\"colab-df-convert\" onclick=\"convertToInteractive('df-e746b29b-3ec7-4007-a169-7bc756032d34')\"\n",
       "              title=\"Convert this dataframe to an interactive table.\"\n",
       "              style=\"display:none;\">\n",
       "        \n",
       "  <svg xmlns=\"http://www.w3.org/2000/svg\" height=\"24px\"viewBox=\"0 0 24 24\"\n",
       "       width=\"24px\">\n",
       "    <path d=\"M0 0h24v24H0V0z\" fill=\"none\"/>\n",
       "    <path d=\"M18.56 5.44l.94 2.06.94-2.06 2.06-.94-2.06-.94-.94-2.06-.94 2.06-2.06.94zm-11 1L8.5 8.5l.94-2.06 2.06-.94-2.06-.94L8.5 2.5l-.94 2.06-2.06.94zm10 10l.94 2.06.94-2.06 2.06-.94-2.06-.94-.94-2.06-.94 2.06-2.06.94z\"/><path d=\"M17.41 7.96l-1.37-1.37c-.4-.4-.92-.59-1.43-.59-.52 0-1.04.2-1.43.59L10.3 9.45l-7.72 7.72c-.78.78-.78 2.05 0 2.83L4 21.41c.39.39.9.59 1.41.59.51 0 1.02-.2 1.41-.59l7.78-7.78 2.81-2.81c.8-.78.8-2.07 0-2.86zM5.41 20L4 18.59l7.72-7.72 1.47 1.35L5.41 20z\"/>\n",
       "  </svg>\n",
       "      </button>\n",
       "      \n",
       "  <style>\n",
       "    .colab-df-container {\n",
       "      display:flex;\n",
       "      flex-wrap:wrap;\n",
       "      gap: 12px;\n",
       "    }\n",
       "\n",
       "    .colab-df-convert {\n",
       "      background-color: #E8F0FE;\n",
       "      border: none;\n",
       "      border-radius: 50%;\n",
       "      cursor: pointer;\n",
       "      display: none;\n",
       "      fill: #1967D2;\n",
       "      height: 32px;\n",
       "      padding: 0 0 0 0;\n",
       "      width: 32px;\n",
       "    }\n",
       "\n",
       "    .colab-df-convert:hover {\n",
       "      background-color: #E2EBFA;\n",
       "      box-shadow: 0px 1px 2px rgba(60, 64, 67, 0.3), 0px 1px 3px 1px rgba(60, 64, 67, 0.15);\n",
       "      fill: #174EA6;\n",
       "    }\n",
       "\n",
       "    [theme=dark] .colab-df-convert {\n",
       "      background-color: #3B4455;\n",
       "      fill: #D2E3FC;\n",
       "    }\n",
       "\n",
       "    [theme=dark] .colab-df-convert:hover {\n",
       "      background-color: #434B5C;\n",
       "      box-shadow: 0px 1px 3px 1px rgba(0, 0, 0, 0.15);\n",
       "      filter: drop-shadow(0px 1px 2px rgba(0, 0, 0, 0.3));\n",
       "      fill: #FFFFFF;\n",
       "    }\n",
       "  </style>\n",
       "\n",
       "      <script>\n",
       "        const buttonEl =\n",
       "          document.querySelector('#df-e746b29b-3ec7-4007-a169-7bc756032d34 button.colab-df-convert');\n",
       "        buttonEl.style.display =\n",
       "          google.colab.kernel.accessAllowed ? 'block' : 'none';\n",
       "\n",
       "        async function convertToInteractive(key) {\n",
       "          const element = document.querySelector('#df-e746b29b-3ec7-4007-a169-7bc756032d34');\n",
       "          const dataTable =\n",
       "            await google.colab.kernel.invokeFunction('convertToInteractive',\n",
       "                                                     [key], {});\n",
       "          if (!dataTable) return;\n",
       "\n",
       "          const docLinkHtml = 'Like what you see? Visit the ' +\n",
       "            '<a target=\"_blank\" href=https://colab.research.google.com/notebooks/data_table.ipynb>data table notebook</a>'\n",
       "            + ' to learn more about interactive tables.';\n",
       "          element.innerHTML = '';\n",
       "          dataTable['output_type'] = 'display_data';\n",
       "          await google.colab.output.renderOutput(dataTable, element);\n",
       "          const docLink = document.createElement('div');\n",
       "          docLink.innerHTML = docLinkHtml;\n",
       "          element.appendChild(docLink);\n",
       "        }\n",
       "      </script>\n",
       "    </div>\n",
       "  </div>\n",
       "  "
      ],
      "text/plain": [
       "  target                                           sequence\n",
       "0   S_25  U_0 S_155 D_2017-12-01, U_0 S_54 D_2018-01-04,...\n",
       "1   S_92  U_0 S_25 D_2018-01-07, U_0 S_15 D_2018-02-15, ...\n",
       "2  S_133  U_0 S_92 D_2018-02-27, U_0 S_92 D_2018-03-05, ...\n",
       "3    S_0  U_0 S_133 D_2018-03-15, U_0 S_0 D_2018-04-07, ...\n",
       "4  S_155  U_0 S_0 D_2018-04-18, U_0 S_155 D_2018-04-25, ..."
      ]
     },
     "execution_count": 21,
     "metadata": {},
     "output_type": "execute_result"
    }
   ],
   "source": [
    "df2=pd.read_csv('/content/drive/MyDrive/Recommendation/GPT2_Sequence_final1.csv')\n",
    "df2= df2.loc[:, ~df2.columns.str.contains('^Unnamed')]\n",
    "\n",
    "df2.head()"
   ]
  },
  {
   "cell_type": "code",
   "execution_count": null,
   "metadata": {
    "id": "dwet_Xt9300o"
   },
   "outputs": [],
   "source": [
    "# Split the data into training and validation sets\n",
    "train_data = df2.sample(frac=0.8, random_state=42)\n",
    "val_data = df2.drop(train_data.index)\n"
   ]
  },
  {
   "cell_type": "markdown",
   "metadata": {
    "id": "LkbWpfvrlSQY"
   },
   "source": [
    "### Try to solve the GPU limitation problem with generator"
   ]
  },
  {
   "cell_type": "code",
   "execution_count": null,
   "metadata": {
    "id": "a95cMetrgixb"
   },
   "outputs": [],
   "source": [
    "def sequence_generator(data):\n",
    "    sequences = data['sequence'].tolist()\n",
    "    targets = data['target'].tolist()\n",
    "    for sequence, target in zip(sequences, targets):\n",
    "        encoded_sequence = tokenizer.batch_encode_plus(\n",
    "            sequence,\n",
    "            truncation=True,\n",
    "            padding='longest',\n",
    "            max_length=140,\n",
    "            return_tensors='pt'\n",
    "        )\n",
    "        yield {\n",
    "            'input_ids': encoded_sequence['input_ids'].squeeze(),\n",
    "            'attention_mask': encoded_sequence['attention_mask'].squeeze(),\n",
    "            'targets': target\n",
    "        }"
   ]
  },
  {
   "cell_type": "code",
   "execution_count": null,
   "metadata": {
    "id": "iMPLZAWpgi1P"
   },
   "outputs": [],
   "source": [
    "train_generator1 = sequence_generator(train_data)\n",
    "val_generator1 = sequence_generator(val_data)"
   ]
  },
  {
   "cell_type": "code",
   "execution_count": null,
   "metadata": {
    "id": "TXRmm0i_gm_6"
   },
   "outputs": [],
   "source": [
    "class GPT2Dataset(Dataset):\n",
    "    def __init__(self, data_generator, length):\n",
    "        self.data_generator = data_generator\n",
    "        self.length = length\n",
    "\n",
    "    def __len__(self):\n",
    "        return self.length\n",
    "\n",
    "    def __getitem__(self, idx):\n",
    "        return next(self.data_generator)\n"
   ]
  },
  {
   "cell_type": "code",
   "execution_count": null,
   "metadata": {
    "id": "xiOwZJSpgnHH"
   },
   "outputs": [],
   "source": [
    "train_dataset = GPT2Dataset(train_generator1, length=len(train_data))\n",
    "val_dataset = GPT2Dataset(val_generator1, length=len(val_data))"
   ]
  },
  {
   "cell_type": "markdown",
   "metadata": {
    "id": "uz90EF3H9uo8"
   },
   "source": [
    "## Training and generating"
   ]
  },
  {
   "cell_type": "code",
   "execution_count": null,
   "metadata": {
    "id": "ldGZNaVcA68G"
   },
   "outputs": [],
   "source": [
    "training_args = TrainingArguments(\n",
    "    output_dir='./content/drive/MyDrive/Recommendation/GPT2_model',\n",
    "    overwrite_output_dir=True,\n",
    "    num_train_epochs=1,\n",
    "    per_device_train_batch_size=4,\n",
    "    per_device_eval_batch_size=4,\n",
    "    save_steps=1000,\n",
    "    save_total_limit=2,\n",
    "    logging_steps=5000,\n",
    "    # evaluation_strategy='epoch',\n",
    "    eval_steps=1000,\n",
    "    warmup_steps=1000,\n",
    "    weight_decay=0.01,\n",
    "    logging_dir='./logs',\n",
    ")\n"
   ]
  },
  {
   "cell_type": "code",
   "execution_count": null,
   "metadata": {
    "id": "BbUzlWWZ6MxG"
   },
   "outputs": [],
   "source": [
    "torch.cuda.empty_cache()"
   ]
  },
  {
   "cell_type": "code",
   "execution_count": null,
   "metadata": {
    "id": "BBOxaz2YtP80"
   },
   "outputs": [],
   "source": [
    "from sklearn.metrics import accuracy_score\n",
    "\n",
    "def compute_metrics(pred):\n",
    "  labels = pred.label_ids\n",
    "  preds = pred.predictions.argmax(-1)\n",
    "  acc = accuracy_score(labels, preds)\n",
    "  return {\n",
    "      'accuracy': acc,\n",
    "  }\n",
    "    "
   ]
  },
  {
   "cell_type": "code",
   "execution_count": null,
   "metadata": {
    "colab": {
     "base_uri": "https://localhost:8080/"
    },
    "id": "kQQU8ANEBwTt",
    "outputId": "2822947c-c081-470b-8e20-e86d40ebce8d"
   },
   "outputs": [
    {
     "name": "stderr",
     "output_type": "stream",
     "text": [
      "/usr/local/lib/python3.10/dist-packages/transformers/optimization.py:407: FutureWarning: This implementation of AdamW is deprecated and will be removed in a future version. Use the PyTorch implementation torch.optim.AdamW instead, or set `no_deprecation_warning=True` to disable this warning\n",
      "  warnings.warn(\n"
     ]
    }
   ],
   "source": [
    "data_collator = DataCollatorForLanguageModeling(tokenizer=tokenizer, mlm=False)\n",
    "optimizer = AdamW(modell.parameters(), lr=training_args.learning_rate, weight_decay=training_args.weight_decay)\n",
    "trainer = Trainer(\n",
    "    model=modell,\n",
    "    args=training_args,\n",
    "    data_collator=data_collator,\n",
    "    train_dataset=train_dataset,\n",
    "    eval_dataset=val_dataset,\n",
    "    compute_metrics=compute_metrics,\n",
    "    optimizers=(optimizer, None)  \n",
    ")\n"
   ]
  },
  {
   "cell_type": "code",
   "execution_count": null,
   "metadata": {
    "colab": {
     "base_uri": "https://localhost:8080/",
     "height": 488
    },
    "id": "43BiFGDGBwg8",
    "outputId": "f6985b9e-c4c7-4c1b-cbac-f1cbbd156725"
   },
   "outputs": [
    {
     "data": {
      "text/html": [
       "\n",
       "    <div>\n",
       "      \n",
       "      <progress value='64300' max='64300' style='width:300px; height:20px; vertical-align: middle;'></progress>\n",
       "      [64300/64300 2:07:28, Epoch 1/1]\n",
       "    </div>\n",
       "    <table border=\"1\" class=\"dataframe\">\n",
       "  <thead>\n",
       " <tr style=\"text-align: left;\">\n",
       "      <th>Step</th>\n",
       "      <th>Training Loss</th>\n",
       "    </tr>\n",
       "  </thead>\n",
       "  <tbody>\n",
       "    <tr>\n",
       "      <td>5000</td>\n",
       "      <td>0.487400</td>\n",
       "    </tr>\n",
       "    <tr>\n",
       "      <td>10000</td>\n",
       "      <td>0.480600</td>\n",
       "    </tr>\n",
       "    <tr>\n",
       "      <td>15000</td>\n",
       "      <td>0.474800</td>\n",
       "    </tr>\n",
       "    <tr>\n",
       "      <td>20000</td>\n",
       "      <td>0.471800</td>\n",
       "    </tr>\n",
       "    <tr>\n",
       "      <td>25000</td>\n",
       "      <td>0.469700</td>\n",
       "    </tr>\n",
       "    <tr>\n",
       "      <td>30000</td>\n",
       "      <td>0.466200</td>\n",
       "    </tr>\n",
       "    <tr>\n",
       "      <td>35000</td>\n",
       "      <td>0.464800</td>\n",
       "    </tr>\n",
       "    <tr>\n",
       "      <td>40000</td>\n",
       "      <td>0.463900</td>\n",
       "    </tr>\n",
       "    <tr>\n",
       "      <td>45000</td>\n",
       "      <td>0.462900</td>\n",
       "    </tr>\n",
       "    <tr>\n",
       "      <td>50000</td>\n",
       "      <td>0.460900</td>\n",
       "    </tr>\n",
       "    <tr>\n",
       "      <td>55000</td>\n",
       "      <td>0.460300</td>\n",
       "    </tr>\n",
       "    <tr>\n",
       "      <td>60000</td>\n",
       "      <td>0.459400</td>\n",
       "    </tr>\n",
       "  </tbody>\n",
       "</table><p>"
      ],
      "text/plain": [
       "<IPython.core.display.HTML object>"
      ]
     },
     "metadata": {},
     "output_type": "display_data"
    },
    {
     "data": {
      "text/plain": [
       "TrainOutput(global_step=64300, training_loss=0.46792622093093894, metrics={'train_runtime': 7649.065, 'train_samples_per_second': 33.625, 'train_steps_per_second': 8.406, 'total_flos': 7488570175266816.0, 'train_loss': 0.46792622093093894, 'epoch': 1.0})"
      ]
     },
     "execution_count": 30,
     "metadata": {},
     "output_type": "execute_result"
    }
   ],
   "source": [
    "trainer.train()\n"
   ]
  },
  {
   "cell_type": "markdown",
   "metadata": {
    "id": "AL9RdXZRRZdU"
   },
   "source": [
    "# Save and load model"
   ]
  },
  {
   "cell_type": "code",
   "execution_count": null,
   "metadata": {
    "id": "NKBVywUCQi06"
   },
   "outputs": [],
   "source": [
    "output_dir = '/content/drive/MyDrive/Recommendation/GPT2_model'  \n",
    "trainer.save_model(output_dir)"
   ]
  },
  {
   "cell_type": "code",
   "execution_count": 71,
   "metadata": {
    "id": "najtETR-aOKN"
   },
   "outputs": [],
   "source": [
    "# Load the model\n",
    "model_G = GPT2LMHeadModel.from_pretrained(output_dir).to(device)\n"
   ]
  },
  {
   "cell_type": "markdown",
   "metadata": {
    "id": "av2-8GDqe3Ax"
   },
   "source": [
    "## Recommender system"
   ]
  },
  {
   "cell_type": "code",
   "execution_count": 72,
   "metadata": {
    "id": "UwjfAZHd3GXR"
   },
   "outputs": [],
   "source": [
    "gen_kwargs = {\n",
    "    \"min_length\":-1,\n",
    "    \"top_k\": 0.0,\n",
    "    \"top_p\": 3.0,\n",
    "    \"do_sample\": True,\n",
    "    \"pad_token_id\": tokenizer.eos_token_id,\n",
    "}"
   ]
  },
  {
   "cell_type": "code",
   "execution_count": 73,
   "metadata": {
    "id": "JTrlrqL-PGm_"
   },
   "outputs": [],
   "source": [
    "\n",
    "def recommend(text):\n",
    "    input_tokens = tokenizer.encode_plus(text, truncation=True, padding=True, max_length=70, return_tensors=\"pt\")\n",
    "\n",
    "    input_ids = input_tokens['input_ids'].to(device)\n",
    "    attention_mask = input_tokens['attention_mask'].to(device)\n",
    "\n",
    "    generated_services = model_G.generate(\n",
    "        input_ids=input_ids,\n",
    "        attention_mask=attention_mask,\n",
    "        max_length=150,\n",
    "        num_return_sequences=1,\n",
    "        **gen_kwargs\n",
    "    )\n",
    "\n",
    "    generated_services = generated_services.to(device)\n",
    "\n",
    "    recommended_services = tokenizer.decode(generated_services[0], skip_special_tokens=True)\n",
    "\n",
    "    print('recommender system:',recommended_services)\n"
   ]
  },
  {
   "cell_type": "code",
   "execution_count": 74,
   "metadata": {
    "colab": {
     "base_uri": "https://localhost:8080/"
    },
    "id": "1zO-Cha3RwOy",
    "outputId": "83536cbe-2070-4183-a691-6d7214b01867"
   },
   "outputs": [
    {
     "name": "stdout",
     "output_type": "stream",
     "text": [
      "recommender system: U_0 S_155 D_2017-12-010, U_0S_4 D_2019-02-03, U_0 S_137 D_2019-02-07, U_0 S_137 D_2019-03-01, U_0 S_52 D_2019-05-22, U_0 S_19 D_2020-04-04, U_15600 S_9 D_2020-\n"
     ]
    }
   ],
   "source": [
    "text=\"U_0 S_155 D_2017-12-01\"\n",
    "recommend(text)"
   ]
  },
  {
   "cell_type": "code",
   "execution_count": 75,
   "metadata": {
    "colab": {
     "base_uri": "https://localhost:8080/"
    },
    "id": "2xkpqNcp2OtP",
    "outputId": "8130741b-5ede-4b1b-dc48-1d6da9d30743"
   },
   "outputs": [
    {
     "name": "stdout",
     "output_type": "stream",
     "text": [
      "recommender system: U_127 S_155 D_2017-12-018, U_ 127S_133 D_2018-09-28, U_ 127S_16 D_2022-01-13, U_ 127S_55 D_2022-01-18, U_ 127S_121 D_2022-02-29, U_ 127S_4 D_2022-03-13, U_7 S_7 D_2023-03-24, U\n"
     ]
    }
   ],
   "source": [
    "text=\"U_127 S_155 D_2017-12-01\"\n",
    "recommend(text)"
   ]
  },
  {
   "cell_type": "code",
   "execution_count": 78,
   "metadata": {
    "colab": {
     "base_uri": "https://localhost:8080/"
    },
    "id": "V84Yxn8_2Uov",
    "outputId": "8ec76b4a-fb5a-428d-e71c-f1c5549e3073"
   },
   "outputs": [
    {
     "name": "stdout",
     "output_type": "stream",
     "text": [
      "recommender system: U_1275352 S_155 D_2017-12-016, U_2528 S_73 D_2020-08-25, U_2528 S_171 D_2020-10-12, U_2528 S_171 D_2020-12-21, U_2528 S_73 D_2021-07-16, U_2528 S_15 D_2021-09-26, \n"
     ]
    }
   ],
   "source": [
    "text=\"U_1275352 S_155 D_2017-12-01\"\n",
    "recommend(text)"
   ]
  },
  {
   "cell_type": "code",
   "execution_count": 79,
   "metadata": {
    "colab": {
     "base_uri": "https://localhost:8080/"
    },
    "id": "qpbdTeBG2uFS",
    "outputId": "1f4b9699-4762-4566-fbc7-92dee02a0bda"
   },
   "outputs": [
    {
     "name": "stdout",
     "output_type": "stream",
     "text": [
      "recommender system: U_8604 S_155 D_2017-12-017, U_86888 S_139 D_2019-01-29, U_86888 S_117 D_2019-02-14, U_86888 S_143 D_2019-02-15, U_86888 S_44 D_2019-02-23, U_86888 S_20 D_2019-02\n"
     ]
    }
   ],
   "source": [
    "text=\"U_8604 S_155 D_2017-12-01\"\n",
    "recommend(text)"
   ]
  },
  {
   "cell_type": "code",
   "execution_count": 81,
   "metadata": {
    "colab": {
     "base_uri": "https://localhost:8080/"
    },
    "id": "VP_QcJva2zia",
    "outputId": "a75497a0-ff8e-4326-cbf2-acc4aa5a24c2"
   },
   "outputs": [
    {
     "name": "stdout",
     "output_type": "stream",
     "text": [
      "recommender system: U_134 S_155 D_2017-12-017, U_98497 S_143 D_2019-05-23, U_98497 S_46 D_2019-05-25, U_98497 S_337 D_2019-06-01, U_98497 S_509 D_2019-06-16, U_98497 S_92 D_2019-06-\n"
     ]
    }
   ],
   "source": [
    "text=\"U_134 S_155 D_2017-12-01\"\n",
    "recommend(text)"
   ]
  }
 ],
 "metadata": {
  "accelerator": "GPU",
  "colab": {
   "collapsed_sections": [
    "RiE27jtoCgWz"
   ],
   "gpuType": "T4",
   "provenance": []
  },
  "kernelspec": {
   "display_name": "Python 3 (ipykernel)",
   "language": "python",
   "name": "python3"
  },
  "language_info": {
   "codemirror_mode": {
    "name": "ipython",
    "version": 3
   },
   "file_extension": ".py",
   "mimetype": "text/x-python",
   "name": "python",
   "nbconvert_exporter": "python",
   "pygments_lexer": "ipython3",
   "version": "3.10.12"
  }
 },
 "nbformat": 4,
 "nbformat_minor": 1
}
